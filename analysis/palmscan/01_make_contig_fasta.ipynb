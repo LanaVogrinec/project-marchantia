{
 "cells": [
  {
   "cell_type": "code",
   "execution_count": 1,
   "metadata": {},
   "outputs": [],
   "source": [
    "import pandas as pd\n",
    "import datetime"
   ]
  },
  {
   "cell_type": "code",
   "execution_count": 2,
   "metadata": {},
   "outputs": [],
   "source": [
    "# import data\n",
    "snakemake_results = pd.read_csv('/home/tobamo/analize/project-tobamo/results/megan6_results_combined.csv')\n",
    "samples_path = '/home/tobamo/analize/project-tobamo/config/samples_test.tsv'\n",
    "with open(samples_path) as file: samples = [line.strip() for line in file.readlines()]"
   ]
  },
  {
   "cell_type": "code",
   "execution_count": 3,
   "metadata": {},
   "outputs": [],
   "source": [
    "# filter dataframe, keep only test SRRs\n",
    "snakemake_filtered = snakemake_results[snakemake_results['SRR'].isin(samples)]"
   ]
  },
  {
   "cell_type": "code",
   "execution_count": 4,
   "metadata": {},
   "outputs": [
    {
     "name": "stdout",
     "output_type": "stream",
     "text": [
      "SRRs: 145\n",
      "unique qseqid: 2567\n",
      "unique seq: 2551\n"
     ]
    }
   ],
   "source": [
    "# see stats\n",
    "print(f'SRRs: {snakemake_filtered.SRR.nunique()}\\nunique qseqid: {snakemake_filtered.qseqid.nunique()}\\nunique seq: {snakemake_filtered.seq.nunique()}')"
   ]
  },
  {
   "cell_type": "code",
   "execution_count": 5,
   "metadata": {},
   "outputs": [],
   "source": [
    "# define function for writing fasta from a dictionary\n",
    "def write_fasta(seq_dict, output_file):\n",
    "    with open(output_file, 'w') as o:\n",
    "        for key, val in seq_dict.items():\n",
    "            o.write('>' + key + '\\n')\n",
    "            o.write(val + '\\n')\n",
    "    return output_file "
   ]
  },
  {
   "cell_type": "code",
   "execution_count": 6,
   "metadata": {},
   "outputs": [],
   "source": [
    "# keep only columns of interest\n",
    "contigs = snakemake_filtered.filter(['qseqid', 'seq'])\n",
    "\n",
    "# making a dictionary will keep only unique keys\n",
    "contigs_dict = dict(contigs.values)"
   ]
  },
  {
   "cell_type": "code",
   "execution_count": 8,
   "metadata": {},
   "outputs": [
    {
     "data": {
      "text/plain": [
       "'analysis_data/test_contigs_2024-04-09.fasta'"
      ]
     },
     "execution_count": 8,
     "metadata": {},
     "output_type": "execute_result"
    }
   ],
   "source": [
    "# save to fasta\n",
    "current_date = datetime.datetime.now().strftime(\"%Y-%m-%d\")\n",
    "write_fasta(contigs_dict, f'analysis_data/test_contigs_{current_date}.fasta')"
   ]
  }
 ],
 "metadata": {
  "kernelspec": {
   "display_name": "base",
   "language": "python",
   "name": "python3"
  },
  "language_info": {
   "codemirror_mode": {
    "name": "ipython",
    "version": 3
   },
   "file_extension": ".py",
   "mimetype": "text/x-python",
   "name": "python",
   "nbconvert_exporter": "python",
   "pygments_lexer": "ipython3",
   "version": "3.9.0"
  }
 },
 "nbformat": 4,
 "nbformat_minor": 2
}
