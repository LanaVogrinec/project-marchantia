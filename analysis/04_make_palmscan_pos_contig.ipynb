{
 "cells": [
  {
   "cell_type": "code",
   "execution_count": 48,
   "metadata": {},
   "outputs": [],
   "source": [
    "from Bio import SeqIO\n",
    "import pandas as pd\n",
    "import re"
   ]
  },
  {
   "cell_type": "code",
   "execution_count": 49,
   "metadata": {},
   "outputs": [],
   "source": [
    "# import data\n",
    "palmscan_hits = 'analysis_results/palmscan_hits.tsv'\n",
    "df = pd.read_csv(palmscan_hits, sep='\\t')\n",
    "contigs_all = '/home/tobamo/analize/project-tobamo/analysis/analysis_data/test_contigs_2024-04-09.fasta'\n",
    "contigs_palmscan_pos = '/home/tobamo/analize/project-tobamo/analysis/analysis_data/test_contigs_2024-04-09_palmscan_pos.fasta'\n",
    "snakemake_results = pd.read_csv('/home/tobamo/analize/project-tobamo/results/megan6_results_combined.csv')\n",
    "samples_path = '/home/tobamo/analize/project-tobamo/config/samples_test.tsv'\n",
    "with open(samples_path) as file: samples = [line.strip() for line in file.readlines()]"
   ]
  },
  {
   "cell_type": "code",
   "execution_count": 50,
   "metadata": {},
   "outputs": [],
   "source": [
    "# define function for removing last num from contig name\n",
    "def remove_last_number(s):\n",
    "    return re.sub(r\"_(\\d+)$\", \"\", s)\n",
    "\n",
    "# make new cols\n",
    "df['contig'] = df['Label'].apply(lambda x: remove_last_number(x))\n",
    "df[\"SRR\"] = df[\"contig\"].str.extract(r\"_([A-Za-z0-9]+)$\")"
   ]
  },
  {
   "cell_type": "code",
   "execution_count": 58,
   "metadata": {},
   "outputs": [],
   "source": [
    "# define lists\n",
    "contig_names = list(df.contig.unique())\n",
    "SRRs = list(df.SRR.unique())\n",
    "snakemake_filtered = snakemake_results[snakemake_results['SRR'].isin(samples)]"
   ]
  },
  {
   "cell_type": "code",
   "execution_count": 59,
   "metadata": {},
   "outputs": [
    {
     "name": "stdout",
     "output_type": "stream",
     "text": [
      "palmscan positive\n",
      "SRRs: 98/145\n",
      "contigs: 221/2567\n"
     ]
    }
   ],
   "source": [
    "# print report\n",
    "print(f'palmscan positive\\nSRRs: {len(SRRs)}/{snakemake_filtered.SRR.nunique()}\\ncontigs: {len(contig_names)}/{snakemake_filtered.qseqid.nunique()}')"
   ]
  },
  {
   "cell_type": "code",
   "execution_count": 60,
   "metadata": {},
   "outputs": [],
   "source": [
    "# make new filtered fasta\n",
    "with open(contigs_all, \"r\") as file, open(contigs_palmscan_pos, \"w\") as outfile:\n",
    "    out_seq = (r for r in SeqIO.parse(file, \"fasta\") if r.id in contig_names)\n",
    "    SeqIO.write(out_seq, outfile, \"fasta\")"
   ]
  }
 ],
 "metadata": {
  "kernelspec": {
   "display_name": "base",
   "language": "python",
   "name": "python3"
  },
  "language_info": {
   "codemirror_mode": {
    "name": "ipython",
    "version": 3
   },
   "file_extension": ".py",
   "mimetype": "text/x-python",
   "name": "python",
   "nbconvert_exporter": "python",
   "pygments_lexer": "ipython3",
   "version": "3.9.0"
  }
 },
 "nbformat": 4,
 "nbformat_minor": 2
}
