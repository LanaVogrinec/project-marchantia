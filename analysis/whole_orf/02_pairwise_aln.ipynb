{
 "cells": [
  {
   "cell_type": "markdown",
   "metadata": {},
   "source": [
    "### Make pairwise alignments for each protein references x getorf protein candidates"
   ]
  },
  {
   "cell_type": "code",
   "execution_count": 24,
   "metadata": {},
   "outputs": [],
   "source": [
    "from utils import *\n",
    "# from Bio import SeqIO\n",
    "# import os\n",
    "from concurrent.futures import ProcessPoolExecutor\n",
    "from tqdm.auto import tqdm\n",
    "# import tempfile"
   ]
  },
  {
   "cell_type": "code",
   "execution_count": 25,
   "metadata": {},
   "outputs": [],
   "source": [
    "# Define file paths\n",
    "ref_files = {\n",
    "    'cp': 'data/refs_virga/cp.fasta',\n",
    "    'mp': 'data/refs_virga/mp.fasta',\n",
    "    'rdrp_orf1': 'data/refs_virga/rdrp_orf1.txt',\n",
    "    'rdrp_orf2': 'data/refs_virga/rdrp_orf2.txt'\n",
    "}\n",
    "\n",
    "getorf_files = {\n",
    "    'cp': 'results/getorf_candidates/getorf_cp_candidates.fasta',\n",
    "    'mp': 'results/getorf_candidates/getorf_mp_candidates.fasta',\n",
    "    'rdrp_orf1': 'results/getorf_candidates/getorf_rdrp_orf1_candidates.fasta',\n",
    "    'rdrp_orf2': 'results/getorf_candidates/getorf_rdrp_orf2_candidates.fasta'\n",
    "}\n",
    "\n",
    "# Parse fasta files\n",
    "ref_seqs = {key: parse_fasta(file_path) for key, file_path in ref_files.items()}\n",
    "getorf_seqs = {key: parse_fasta(file_path) for key, file_path in getorf_files.items()}"
   ]
  },
  {
   "cell_type": "markdown",
   "metadata": {},
   "source": [
    "rdrp ORF1 orf x ref"
   ]
  },
  {
   "cell_type": "code",
   "execution_count": 26,
   "metadata": {},
   "outputs": [],
   "source": [
    "rdrp_orf1_args_list = []\n",
    "\n",
    "for s1 in getorf_seqs['rdrp_orf1'].values():\n",
    "    for s2 in ref_seqs['rdrp_orf1'].values():\n",
    "        rdrp_orf1_args_list.append([s1, s2])"
   ]
  },
  {
   "cell_type": "code",
   "execution_count": 27,
   "metadata": {},
   "outputs": [
    {
     "data": {
      "application/vnd.jupyter.widget-view+json": {
       "model_id": "9d482218967440dfb4937b965f9090ba",
       "version_major": 2,
       "version_minor": 0
      },
      "text/plain": [
       "  0%|          | 0/7100 [00:00<?, ?it/s]"
      ]
     },
     "metadata": {},
     "output_type": "display_data"
    }
   ],
   "source": [
    "with ProcessPoolExecutor(max_workers=40) as executor:\n",
    "    rdrp_orf1_results = list(tqdm(executor.map(compute_identity_score_orfxref, rdrp_orf1_args_list), total=len(rdrp_orf1_args_list)))"
   ]
  },
  {
   "cell_type": "code",
   "execution_count": 33,
   "metadata": {},
   "outputs": [],
   "source": [
    "rdrp_orf1_df = df_orf_edit(rdrp_orf1_results)\n",
    "rdrp_orf1_df.to_csv('results/orf_x_ref/rdrp_orf1_orf_x_ref.csv', index=False)"
   ]
  },
  {
   "cell_type": "markdown",
   "metadata": {},
   "source": [
    "rdrp ORF2 orf x ref"
   ]
  },
  {
   "cell_type": "code",
   "execution_count": 34,
   "metadata": {},
   "outputs": [],
   "source": [
    "rdrp_orf2_args_list = []\n",
    "\n",
    "for s1 in getorf_seqs['rdrp_orf2'].values():\n",
    "    for s2 in ref_seqs['rdrp_orf2'].values():\n",
    "        rdrp_orf2_args_list.append([s1, s2])"
   ]
  },
  {
   "cell_type": "code",
   "execution_count": 36,
   "metadata": {},
   "outputs": [
    {
     "data": {
      "application/vnd.jupyter.widget-view+json": {
       "model_id": "880647fe53784d5dadf6738d3cdd3b94",
       "version_major": 2,
       "version_minor": 0
      },
      "text/plain": [
       "  0%|          | 0/28755 [00:00<?, ?it/s]"
      ]
     },
     "metadata": {},
     "output_type": "display_data"
    }
   ],
   "source": [
    "with ProcessPoolExecutor(max_workers=40) as executor:\n",
    "    rdrp_orf2_results = list(tqdm(executor.map(compute_identity_score_orfxref, rdrp_orf2_args_list), total=len(rdrp_orf2_args_list)))"
   ]
  },
  {
   "cell_type": "code",
   "execution_count": 39,
   "metadata": {},
   "outputs": [],
   "source": [
    "rdrp_orf2_df = df_orf_edit(rdrp_orf2_results)\n",
    "rdrp_orf2_df.to_csv('results/orf_x_ref/rdrp_orf2_orf_x_ref.csv', index=False)"
   ]
  },
  {
   "cell_type": "markdown",
   "metadata": {},
   "source": [
    "Coat protein orf x ref"
   ]
  },
  {
   "cell_type": "code",
   "execution_count": 40,
   "metadata": {},
   "outputs": [],
   "source": [
    "cp_args_list = []\n",
    "\n",
    "for s1 in getorf_seqs['cp'].values():\n",
    "    for s2 in ref_seqs['cp'].values():\n",
    "        cp_args_list.append([s1, s2])"
   ]
  },
  {
   "cell_type": "code",
   "execution_count": 41,
   "metadata": {},
   "outputs": [
    {
     "data": {
      "application/vnd.jupyter.widget-view+json": {
       "model_id": "8dbf736743294baeaa688958c62fc394",
       "version_major": 2,
       "version_minor": 0
      },
      "text/plain": [
       "  0%|          | 0/159825 [00:00<?, ?it/s]"
      ]
     },
     "metadata": {},
     "output_type": "display_data"
    }
   ],
   "source": [
    "with ProcessPoolExecutor(max_workers=40) as executor:\n",
    "    cp_results = list(tqdm(executor.map(compute_identity_score_orfxref, cp_args_list), total=len(cp_args_list)))"
   ]
  },
  {
   "cell_type": "code",
   "execution_count": 42,
   "metadata": {},
   "outputs": [],
   "source": [
    "cp_df = df_orf_edit(cp_results)\n",
    "cp_df.to_csv('results/orf_x_ref/cp_orf_x_ref.csv', index=False)"
   ]
  },
  {
   "cell_type": "markdown",
   "metadata": {},
   "source": [
    "Movement protein orf x ref"
   ]
  },
  {
   "cell_type": "code",
   "execution_count": 43,
   "metadata": {},
   "outputs": [],
   "source": [
    "mp_args_list = []\n",
    "\n",
    "for s1 in getorf_seqs['mp'].values():\n",
    "    for s2 in ref_seqs['mp'].values():\n",
    "        mp_args_list.append([s1, s2])"
   ]
  },
  {
   "cell_type": "code",
   "execution_count": 44,
   "metadata": {},
   "outputs": [
    {
     "data": {
      "application/vnd.jupyter.widget-view+json": {
       "model_id": "fc8c186043df48d6a12fc498cda4d4bb",
       "version_major": 2,
       "version_minor": 0
      },
      "text/plain": [
       "  0%|          | 0/41030 [00:00<?, ?it/s]"
      ]
     },
     "metadata": {},
     "output_type": "display_data"
    }
   ],
   "source": [
    "with ProcessPoolExecutor(max_workers=40) as executor:\n",
    "    mp_results = list(tqdm(executor.map(compute_identity_score_orfxref, mp_args_list), total=len(mp_args_list)))"
   ]
  },
  {
   "cell_type": "code",
   "execution_count": 45,
   "metadata": {},
   "outputs": [],
   "source": [
    "mp_df = df_orf_edit(mp_results)\n",
    "mp_df.to_csv('results/orf_x_ref/mp_orf_x_ref.csv', index=False)"
   ]
  }
 ],
 "metadata": {
  "kernelspec": {
   "display_name": "base",
   "language": "python",
   "name": "python3"
  },
  "language_info": {
   "codemirror_mode": {
    "name": "ipython",
    "version": 3
   },
   "file_extension": ".py",
   "mimetype": "text/x-python",
   "name": "python",
   "nbconvert_exporter": "python",
   "pygments_lexer": "ipython3",
   "version": "3.9.0"
  }
 },
 "nbformat": 4,
 "nbformat_minor": 2
}
