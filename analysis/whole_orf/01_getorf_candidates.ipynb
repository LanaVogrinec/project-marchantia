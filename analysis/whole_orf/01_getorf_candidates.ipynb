{
 "cells": [
  {
   "cell_type": "code",
   "execution_count": 1,
   "metadata": {},
   "outputs": [],
   "source": [
    "from glob import glob\n",
    "import statistics\n",
    "import pandas as pd\n",
    "from Bio import SeqIO\n",
    "import matplotlib.pyplot as plt\n",
    "import seaborn as sns\n",
    "import re"
   ]
  },
  {
   "cell_type": "markdown",
   "metadata": {},
   "source": [
    "### Make getorf candidates for each protein based on reference protein length distribution"
   ]
  },
  {
   "cell_type": "code",
   "execution_count": 2,
   "metadata": {},
   "outputs": [],
   "source": [
    "filenames = glob('data/refs_tobamo/*')"
   ]
  },
  {
   "cell_type": "code",
   "execution_count": 11,
   "metadata": {},
   "outputs": [],
   "source": [
    "ref_stats = {}\n",
    "proteins = []\n",
    "\n",
    "for file in filenames:\n",
    "    name = file.split('/')[-1].split('.')[0]\n",
    "    with open(file, 'r') as fin:\n",
    "        fasta_lens = sorted([len(r.seq) for r in SeqIO.parse(fin, 'fasta')])\n",
    "        minlen = min(fasta_lens)\n",
    "        maxlen = max(fasta_lens)\n",
    "        med = round(statistics.median(fasta_lens), 2)\n",
    "        mean = round(statistics.mean(fasta_lens), 2)\n",
    "        sd = round(statistics.stdev(fasta_lens),2)\n",
    "    proteins.append(name)\n",
    "    \n",
    "    ref_stats[name] = {'min':minlen, 'max':maxlen, 'median': med, 'mean': mean, 'stdev':sd, 'lens':fasta_lens}\n",
    "    "
   ]
  },
  {
   "cell_type": "code",
   "execution_count": 13,
   "metadata": {},
   "outputs": [
    {
     "data": {
      "text/html": [
       "<div>\n",
       "<style scoped>\n",
       "    .dataframe tbody tr th:only-of-type {\n",
       "        vertical-align: middle;\n",
       "    }\n",
       "\n",
       "    .dataframe tbody tr th {\n",
       "        vertical-align: top;\n",
       "    }\n",
       "\n",
       "    .dataframe thead th {\n",
       "        text-align: right;\n",
       "    }\n",
       "</style>\n",
       "<table border=\"1\" class=\"dataframe\">\n",
       "  <thead>\n",
       "    <tr style=\"text-align: right;\">\n",
       "      <th></th>\n",
       "      <th>min</th>\n",
       "      <th>max</th>\n",
       "      <th>median</th>\n",
       "      <th>mean</th>\n",
       "      <th>stdev</th>\n",
       "      <th>lens</th>\n",
       "    </tr>\n",
       "  </thead>\n",
       "  <tbody>\n",
       "    <tr>\n",
       "      <th>cp</th>\n",
       "      <td>124</td>\n",
       "      <td>208</td>\n",
       "      <td>159</td>\n",
       "      <td>160.74</td>\n",
       "      <td>10.39</td>\n",
       "      <td>[124, 134, 157, 157, 157, 157, 157, 157, 157, ...</td>\n",
       "    </tr>\n",
       "    <tr>\n",
       "      <th>rdrp_orf2</th>\n",
       "      <td>311</td>\n",
       "      <td>501</td>\n",
       "      <td>471.0</td>\n",
       "      <td>463.94</td>\n",
       "      <td>38.64</td>\n",
       "      <td>[311, 312, 393, 403, 417, 434, 435, 444, 445, ...</td>\n",
       "    </tr>\n",
       "    <tr>\n",
       "      <th>mp</th>\n",
       "      <td>216</td>\n",
       "      <td>334</td>\n",
       "      <td>267.0</td>\n",
       "      <td>272.81</td>\n",
       "      <td>21.01</td>\n",
       "      <td>[216, 219, 254, 256, 256, 256, 256, 257, 258, ...</td>\n",
       "    </tr>\n",
       "    <tr>\n",
       "      <th>rdrp_orf1</th>\n",
       "      <td>773</td>\n",
       "      <td>1166</td>\n",
       "      <td>1116</td>\n",
       "      <td>1115.04</td>\n",
       "      <td>52.81</td>\n",
       "      <td>[1081, 1097, 1100, 1100, 1103, 1103, 1103, 110...</td>\n",
       "    </tr>\n",
       "  </tbody>\n",
       "</table>\n",
       "</div>"
      ],
      "text/plain": [
       "           min   max median     mean  stdev  \\\n",
       "cp         124   208    159   160.74  10.39   \n",
       "rdrp_orf2  311   501  471.0   463.94  38.64   \n",
       "mp         216   334  267.0   272.81  21.01   \n",
       "rdrp_orf1  773  1166   1116  1115.04  52.81   \n",
       "\n",
       "                                                        lens  \n",
       "cp         [124, 134, 157, 157, 157, 157, 157, 157, 157, ...  \n",
       "rdrp_orf2  [311, 312, 393, 403, 417, 434, 435, 444, 445, ...  \n",
       "mp         [216, 219, 254, 256, 256, 256, 256, 257, 258, ...  \n",
       "rdrp_orf1  [1081, 1097, 1100, 1100, 1103, 1103, 1103, 110...  "
      ]
     },
     "execution_count": 13,
     "metadata": {},
     "output_type": "execute_result"
    }
   ],
   "source": [
    "ref_stats_df = pd.DataFrame(ref_stats).T\n",
    "# remove outlyer Gorica orf1 len 773\n",
    "ref_stats_df.loc['rdrp_orf1', 'lens'] = ref_stats_df.loc['rdrp_orf1', 'lens'][1:]\n",
    "ref_stats_df"
   ]
  },
  {
   "cell_type": "code",
   "execution_count": 19,
   "metadata": {},
   "outputs": [
    {
     "data": {
      "text/html": [
       "<div>\n",
       "<style scoped>\n",
       "    .dataframe tbody tr th:only-of-type {\n",
       "        vertical-align: middle;\n",
       "    }\n",
       "\n",
       "    .dataframe tbody tr th {\n",
       "        vertical-align: top;\n",
       "    }\n",
       "\n",
       "    .dataframe thead th {\n",
       "        text-align: right;\n",
       "    }\n",
       "</style>\n",
       "<table border=\"1\" class=\"dataframe\">\n",
       "  <thead>\n",
       "    <tr style=\"text-align: right;\">\n",
       "      <th></th>\n",
       "      <th>SRR</th>\n",
       "      <th>contig</th>\n",
       "      <th>orf_name</th>\n",
       "      <th>seq</th>\n",
       "      <th>seq_len</th>\n",
       "    </tr>\n",
       "  </thead>\n",
       "  <tbody>\n",
       "    <tr>\n",
       "      <th>0</th>\n",
       "      <td>DRR146894</td>\n",
       "      <td>NODE_4230_length_1601_cov_1210.913325_DRR146894</td>\n",
       "      <td>NODE_4230_length_1601_cov_1210.913325_DRR146894_1</td>\n",
       "      <td>VLTKENLTKWAAGQEPNKLKRINLQDLELSLEKMVEYSMMIKKEPK...</td>\n",
       "      <td>373</td>\n",
       "    </tr>\n",
       "    <tr>\n",
       "      <th>1</th>\n",
       "      <td>DRR146894</td>\n",
       "      <td>NODE_4230_length_1601_cov_1210.913325_DRR146894</td>\n",
       "      <td>NODE_4230_length_1601_cov_1210.913325_DRR146894_2</td>\n",
       "      <td>DWSFSFQHLKVLMPYLKYQENFDAIIAEHDLWYDVASLLGSINSIR...</td>\n",
       "      <td>159</td>\n",
       "    </tr>\n",
       "    <tr>\n",
       "      <th>2</th>\n",
       "      <td>DRR146894</td>\n",
       "      <td>NODE_7350_length_1000_cov_719.098413_DRR146894</td>\n",
       "      <td>NODE_7350_length_1000_cov_719.098413_DRR146894_1</td>\n",
       "      <td>HTLKKKKKELIRKGFSNTNTIHESQGTTYKKVALVRLNPKSVPIFN...</td>\n",
       "      <td>322</td>\n",
       "    </tr>\n",
       "    <tr>\n",
       "      <th>3</th>\n",
       "      <td>DRR146894</td>\n",
       "      <td>NODE_5453_length_1330_cov_737.490980_DRR146894</td>\n",
       "      <td>NODE_5453_length_1330_cov_737.490980_DRR146894_1</td>\n",
       "      <td>HKSVTIDGKRYSKQKFGILSFWNTNISTSHHNTIIERSHITKDIIY...</td>\n",
       "      <td>134</td>\n",
       "    </tr>\n",
       "    <tr>\n",
       "      <th>4</th>\n",
       "      <td>DRR146894</td>\n",
       "      <td>NODE_5453_length_1330_cov_737.490980_DRR146894</td>\n",
       "      <td>NODE_5453_length_1330_cov_737.490980_DRR146894_2</td>\n",
       "      <td>FFIFILFFIMASNEPLASGTLNKEPVVRIEQEYGIKRSYKLQIGLN...</td>\n",
       "      <td>443</td>\n",
       "    </tr>\n",
       "    <tr>\n",
       "      <th>...</th>\n",
       "      <td>...</td>\n",
       "      <td>...</td>\n",
       "      <td>...</td>\n",
       "      <td>...</td>\n",
       "      <td>...</td>\n",
       "    </tr>\n",
       "    <tr>\n",
       "      <th>5396</th>\n",
       "      <td>SRR9665731</td>\n",
       "      <td>NODE_2_length_3626_cov_0.985424_SRR9665731</td>\n",
       "      <td>NODE_2_length_3626_cov_0.985424_SRR9665731_6</td>\n",
       "      <td>GLVIIRANVINNGMDEISIDKHPRDFHIPRKESRKFKLGYQHLTLR...</td>\n",
       "      <td>120</td>\n",
       "    </tr>\n",
       "    <tr>\n",
       "      <th>5397</th>\n",
       "      <td>SRR9665731</td>\n",
       "      <td>NODE_164_length_702_cov_1.326957_SRR9665731</td>\n",
       "      <td>NODE_164_length_702_cov_1.326957_SRR9665731_1</td>\n",
       "      <td>LKLRAMNPSCLSSCCVVLILQNTFMSHCWALWFLVYGTYRNPVGVV...</td>\n",
       "      <td>99</td>\n",
       "    </tr>\n",
       "    <tr>\n",
       "      <th>5398</th>\n",
       "      <td>SRR9665731</td>\n",
       "      <td>NODE_164_length_702_cov_1.326957_SRR9665731</td>\n",
       "      <td>NODE_164_length_702_cov_1.326957_SRR9665731_2</td>\n",
       "      <td>LKYLSITDFSVVKAQSYESLVPVKLLRGVDLTKHLYVTLLGVVVSG...</td>\n",
       "      <td>234</td>\n",
       "    </tr>\n",
       "    <tr>\n",
       "      <th>5399</th>\n",
       "      <td>SRR9960038</td>\n",
       "      <td>NODE_10536_length_2129_cov_1.942008_SRR9960038</td>\n",
       "      <td>NODE_10536_length_2129_cov_1.942008_SRR9960038_1</td>\n",
       "      <td>KITTVCPPSLARGLFAKEIDFSKYDKSQGELHLRIEMRIFELLGLP...</td>\n",
       "      <td>263</td>\n",
       "    </tr>\n",
       "    <tr>\n",
       "      <th>5400</th>\n",
       "      <td>SRR9960038</td>\n",
       "      <td>NODE_10536_length_2129_cov_1.942008_SRR9960038</td>\n",
       "      <td>NODE_10536_length_2129_cov_1.942008_SRR9960038_2</td>\n",
       "      <td>RRMATEMDAPKELQIFTMASPKVATTQYLDYLLYDIIEGTYRTLQP...</td>\n",
       "      <td>415</td>\n",
       "    </tr>\n",
       "  </tbody>\n",
       "</table>\n",
       "<p>5401 rows × 5 columns</p>\n",
       "</div>"
      ],
      "text/plain": [
       "             SRR                                           contig  \\\n",
       "0      DRR146894  NODE_4230_length_1601_cov_1210.913325_DRR146894   \n",
       "1      DRR146894  NODE_4230_length_1601_cov_1210.913325_DRR146894   \n",
       "2      DRR146894   NODE_7350_length_1000_cov_719.098413_DRR146894   \n",
       "3      DRR146894   NODE_5453_length_1330_cov_737.490980_DRR146894   \n",
       "4      DRR146894   NODE_5453_length_1330_cov_737.490980_DRR146894   \n",
       "...          ...                                              ...   \n",
       "5396  SRR9665731       NODE_2_length_3626_cov_0.985424_SRR9665731   \n",
       "5397  SRR9665731      NODE_164_length_702_cov_1.326957_SRR9665731   \n",
       "5398  SRR9665731      NODE_164_length_702_cov_1.326957_SRR9665731   \n",
       "5399  SRR9960038   NODE_10536_length_2129_cov_1.942008_SRR9960038   \n",
       "5400  SRR9960038   NODE_10536_length_2129_cov_1.942008_SRR9960038   \n",
       "\n",
       "                                               orf_name  \\\n",
       "0     NODE_4230_length_1601_cov_1210.913325_DRR146894_1   \n",
       "1     NODE_4230_length_1601_cov_1210.913325_DRR146894_2   \n",
       "2      NODE_7350_length_1000_cov_719.098413_DRR146894_1   \n",
       "3      NODE_5453_length_1330_cov_737.490980_DRR146894_1   \n",
       "4      NODE_5453_length_1330_cov_737.490980_DRR146894_2   \n",
       "...                                                 ...   \n",
       "5396       NODE_2_length_3626_cov_0.985424_SRR9665731_6   \n",
       "5397      NODE_164_length_702_cov_1.326957_SRR9665731_1   \n",
       "5398      NODE_164_length_702_cov_1.326957_SRR9665731_2   \n",
       "5399   NODE_10536_length_2129_cov_1.942008_SRR9960038_1   \n",
       "5400   NODE_10536_length_2129_cov_1.942008_SRR9960038_2   \n",
       "\n",
       "                                                    seq  seq_len  \n",
       "0     VLTKENLTKWAAGQEPNKLKRINLQDLELSLEKMVEYSMMIKKEPK...      373  \n",
       "1     DWSFSFQHLKVLMPYLKYQENFDAIIAEHDLWYDVASLLGSINSIR...      159  \n",
       "2     HTLKKKKKELIRKGFSNTNTIHESQGTTYKKVALVRLNPKSVPIFN...      322  \n",
       "3     HKSVTIDGKRYSKQKFGILSFWNTNISTSHHNTIIERSHITKDIIY...      134  \n",
       "4     FFIFILFFIMASNEPLASGTLNKEPVVRIEQEYGIKRSYKLQIGLN...      443  \n",
       "...                                                 ...      ...  \n",
       "5396  GLVIIRANVINNGMDEISIDKHPRDFHIPRKESRKFKLGYQHLTLR...      120  \n",
       "5397  LKLRAMNPSCLSSCCVVLILQNTFMSHCWALWFLVYGTYRNPVGVV...       99  \n",
       "5398  LKYLSITDFSVVKAQSYESLVPVKLLRGVDLTKHLYVTLLGVVVSG...      234  \n",
       "5399  KITTVCPPSLARGLFAKEIDFSKYDKSQGELHLRIEMRIFELLGLP...      263  \n",
       "5400  RRMATEMDAPKELQIFTMASPKVATTQYLDYLLYDIIEGTYRTLQP...      415  \n",
       "\n",
       "[5401 rows x 5 columns]"
      ]
     },
     "execution_count": 19,
     "metadata": {},
     "output_type": "execute_result"
    }
   ],
   "source": [
    "getorf = pd.read_csv('data/getorf_stats.csv')\n",
    "getorf"
   ]
  },
  {
   "cell_type": "code",
   "execution_count": 23,
   "metadata": {},
   "outputs": [
    {
     "data": {
      "text/plain": [
       "1649"
      ]
     },
     "execution_count": 23,
     "metadata": {},
     "output_type": "execute_result"
    }
   ],
   "source": [
    "x = getorf[getorf['SRR'] == 'SRR6846476']\n",
    "x.contig.nunique()"
   ]
  },
  {
   "cell_type": "code",
   "execution_count": 24,
   "metadata": {},
   "outputs": [
    {
     "data": {
      "text/plain": [
       "contig\n",
       "k141_356774_flag=1_multi=17.0000_len=5797_SRR6846476    27\n",
       "NODE_141_length_6984_cov_4.376140_SRR5186291            17\n",
       "NODE_836_length_7143_cov_21.835073_SRR3624128           17\n",
       "k141_903112_flag=0_multi=26.8643_len=4650_SRR6846476    16\n",
       "k141_602825_flag=1_multi=23.0000_len=6559_SRR6846476    16\n",
       "dtype: int64"
      ]
     },
     "execution_count": 24,
     "metadata": {},
     "output_type": "execute_result"
    }
   ],
   "source": [
    "getorf.groupby('contig').size().sort_values(ascending=False).head()"
   ]
  },
  {
   "cell_type": "code",
   "execution_count": 15,
   "metadata": {},
   "outputs": [
    {
     "data": {
      "text/plain": [
       "SRR\n",
       "SRR6846476    3198\n",
       "SRR1781945      99\n",
       "SRR8554352      85\n",
       "SRR1782579      82\n",
       "SRR4242136      76\n",
       "dtype: int64"
      ]
     },
     "execution_count": 15,
     "metadata": {},
     "output_type": "execute_result"
    }
   ],
   "source": [
    "# SRR6846476 - 3198 ORFs (suspicious)\n",
    "getorf.groupby('SRR').size().sort_values(ascending=False).head()"
   ]
  },
  {
   "cell_type": "code",
   "execution_count": 13,
   "metadata": {},
   "outputs": [
    {
     "data": {
      "image/png": "[encoded data removed]",
      "text/plain": [
       "<Figure size 700x300 with 1 Axes>"
      ]
     },
     "metadata": {},
     "output_type": "display_data"
    }
   ],
   "source": [
    "fig, ax = plt.subplots(figsize=(7,3))\n",
    "fig = sns.kdeplot(getorf.seq_len, fill=True)"
   ]
  },
  {
   "cell_type": "code",
   "execution_count": 43,
   "metadata": {},
   "outputs": [],
   "source": [
    "# help(GMM)"
   ]
  },
  {
   "cell_type": "code",
   "execution_count": 53,
   "metadata": {},
   "outputs": [],
   "source": [
    "getorf_270_1120 = getorf[(270 < getorf.seq_len) & (getorf.seq_len < 1120)]"
   ]
  },
  {
   "cell_type": "code",
   "execution_count": 56,
   "metadata": {},
   "outputs": [
    {
     "data": {
      "image/png": "[encoded data removed]",
      "text/plain": [
       "<Figure size 1200x300 with 1 Axes>"
      ]
     },
     "metadata": {},
     "output_type": "display_data"
    }
   ],
   "source": [
    "fig, ax = plt.subplots(figsize=(12,3))\n",
    "\n",
    "sns.histplot(data=getorf_270_1120, x='seq_len', bins=100)\n",
    "# plt.xlim(150,1500)\n",
    "# plt.ylim(0,100)\n",
    "plt.show()"
   ]
  },
  {
   "cell_type": "code",
   "execution_count": 70,
   "metadata": {},
   "outputs": [
    {
     "data": {
      "image/png": "[encoded data removed]",
      "text/plain": [
       "<Figure size 1200x300 with 1 Axes>"
      ]
     },
     "metadata": {},
     "output_type": "display_data"
    }
   ],
   "source": [
    "fig, ax = plt.subplots(figsize=(12,3))\n",
    "\n",
    "sns.histplot(data=getorf, x='seq_len', bins=200)\n",
    "plt.xlim(200,2600)\n",
    "plt.ylim(0,150)\n",
    "plt.show()"
   ]
  },
  {
   "cell_type": "code",
   "execution_count": 21,
   "metadata": {},
   "outputs": [
    {
     "data": {
      "text/html": [
       "<div>\n",
       "<style scoped>\n",
       "    .dataframe tbody tr th:only-of-type {\n",
       "        vertical-align: middle;\n",
       "    }\n",
       "\n",
       "    .dataframe tbody tr th {\n",
       "        vertical-align: top;\n",
       "    }\n",
       "\n",
       "    .dataframe thead th {\n",
       "        text-align: right;\n",
       "    }\n",
       "</style>\n",
       "<table border=\"1\" class=\"dataframe\">\n",
       "  <thead>\n",
       "    <tr style=\"text-align: right;\">\n",
       "      <th></th>\n",
       "      <th>min</th>\n",
       "      <th>max</th>\n",
       "      <th>median</th>\n",
       "      <th>mean</th>\n",
       "      <th>stdev</th>\n",
       "      <th>lens</th>\n",
       "    </tr>\n",
       "  </thead>\n",
       "  <tbody>\n",
       "    <tr>\n",
       "      <th>cp</th>\n",
       "      <td>124</td>\n",
       "      <td>208</td>\n",
       "      <td>159</td>\n",
       "      <td>160.74</td>\n",
       "      <td>10.39</td>\n",
       "      <td>[124, 134, 157, 157, 157, 157, 157, 157, 157, ...</td>\n",
       "    </tr>\n",
       "    <tr>\n",
       "      <th>rdrp_orf2</th>\n",
       "      <td>311</td>\n",
       "      <td>501</td>\n",
       "      <td>471.0</td>\n",
       "      <td>463.94</td>\n",
       "      <td>38.64</td>\n",
       "      <td>[311, 312, 393, 403, 417, 434, 435, 444, 445, ...</td>\n",
       "    </tr>\n",
       "    <tr>\n",
       "      <th>mp</th>\n",
       "      <td>216</td>\n",
       "      <td>334</td>\n",
       "      <td>267.0</td>\n",
       "      <td>272.81</td>\n",
       "      <td>21.01</td>\n",
       "      <td>[216, 219, 254, 256, 256, 256, 256, 257, 258, ...</td>\n",
       "    </tr>\n",
       "    <tr>\n",
       "      <th>rdrp_orf1</th>\n",
       "      <td>773</td>\n",
       "      <td>1166</td>\n",
       "      <td>1116</td>\n",
       "      <td>1115.04</td>\n",
       "      <td>52.81</td>\n",
       "      <td>[773, 1081, 1097, 1100, 1100, 1103, 1103, 1103...</td>\n",
       "    </tr>\n",
       "  </tbody>\n",
       "</table>\n",
       "</div>"
      ],
      "text/plain": [
       "           min   max median     mean  stdev  \\\n",
       "cp         124   208    159   160.74  10.39   \n",
       "rdrp_orf2  311   501  471.0   463.94  38.64   \n",
       "mp         216   334  267.0   272.81  21.01   \n",
       "rdrp_orf1  773  1166   1116  1115.04  52.81   \n",
       "\n",
       "                                                        lens  \n",
       "cp         [124, 134, 157, 157, 157, 157, 157, 157, 157, ...  \n",
       "rdrp_orf2  [311, 312, 393, 403, 417, 434, 435, 444, 445, ...  \n",
       "mp         [216, 219, 254, 256, 256, 256, 256, 257, 258, ...  \n",
       "rdrp_orf1  [773, 1081, 1097, 1100, 1100, 1103, 1103, 1103...  "
      ]
     },
     "execution_count": 21,
     "metadata": {},
     "output_type": "execute_result"
    }
   ],
   "source": [
    "ref_stats_df"
   ]
  },
  {
   "cell_type": "code",
   "execution_count": null,
   "metadata": {},
   "outputs": [],
   "source": [
    "113.61 218.39\n",
    "272.36 539.64\n",
    "194.99 355.01\n",
    "720.19 1218.81"
   ]
  },
  {
   "cell_type": "code",
   "execution_count": 32,
   "metadata": {},
   "outputs": [],
   "source": [
    "# Regular expression pattern to extract length or len\n",
    "pattern = r'(?:length|len)_(\\d+)'\n",
    "\n",
    "# Function to extract length\n",
    "def extract_length(text):\n",
    "    match = re.search(pattern, text)\n",
    "    if match:\n",
    "        return int(match.group(1))\n",
    "    else:\n",
    "        return None\n",
    "\n",
    "# Create new column 'Length' by applying the function to the 'ID' column\n",
    "getorf['contig_length'] = getorf['contig'].apply(extract_length)"
   ]
  },
  {
   "cell_type": "code",
   "execution_count": 35,
   "metadata": {},
   "outputs": [
    {
     "data": {
      "image/png": "[encoded data removed]",
      "text/plain": [
       "<Figure size 1200x500 with 1 Axes>"
      ]
     },
     "metadata": {},
     "output_type": "display_data"
    }
   ],
   "source": [
    "df = getorf\n",
    "orf_counts = df.groupby('contig').size()\n",
    "\n",
    "fig, ax = plt.subplots(figsize=(12,5))\n",
    "plt.scatter(df['contig_length'], df['contig'].map(orf_counts))\n",
    "plt.xlabel('Contig Length')\n",
    "plt.ylabel('Number of ORFs per Contig')\n",
    "plt.title('Scatter Plot: Contig Length vs Number of ORFs per Contig')\n",
    "plt.grid(True)\n",
    "plt.show()"
   ]
  },
  {
   "cell_type": "markdown",
   "metadata": {},
   "source": [
    "#### Filter getorf fasta based on orf len"
   ]
  },
  {
   "cell_type": "code",
   "execution_count": 71,
   "metadata": {},
   "outputs": [
    {
     "name": "stdout",
     "output_type": "stream",
     "text": [
      "113.61 218.39\n",
      "272.36 539.64\n",
      "194.99 355.01\n",
      "720.19 1218.81\n"
     ]
    }
   ],
   "source": [
    "getorf_path = 'data/getorf_output.fasta'\n",
    "\n",
    "for protein in proteins:\n",
    "    fasta_out = f\"results/getorf_candidates/getorf_{protein}_candidates.fasta\"\n",
    "    min_lim = ref_stats_df['min'].loc[f'{protein}'] - ref_stats_df['stdev'].loc[f'{protein}'] \n",
    "    max_lim = ref_stats_df['max'].loc[f'{protein}'] + ref_stats_df['stdev'].loc[f'{protein}']\n",
    "    \n",
    "    print(min_lim,max_lim)\n",
    "    # # make new filtered fasta\n",
    "    # with open(getorf_path, \"r\") as file, open(fasta_out, \"w\") as outfile:\n",
    "    #     out_seq = (r for r in SeqIO.parse(file, \"fasta\") if min_lim < len(r.seq) < max_lim)\n",
    "    #     SeqIO.write(out_seq, outfile, \"fasta\")"
   ]
  }
 ],
 "metadata": {
  "kernelspec": {
   "display_name": "base",
   "language": "python",
   "name": "python3"
  },
  "language_info": {
   "codemirror_mode": {
    "name": "ipython",
    "version": 3
   },
   "file_extension": ".py",
   "mimetype": "text/x-python",
   "name": "python",
   "nbconvert_exporter": "python",
   "pygments_lexer": "ipython3",
   "version": "3.9.0"
  }
 },
 "nbformat": 4,
 "nbformat_minor": 2
}
