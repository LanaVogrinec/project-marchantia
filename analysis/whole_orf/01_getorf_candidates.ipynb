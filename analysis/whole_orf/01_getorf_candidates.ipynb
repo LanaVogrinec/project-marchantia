{
 "cells": [
  {
   "cell_type": "code",
   "execution_count": 130,
   "metadata": {},
   "outputs": [],
   "source": [
    "from glob import glob\n",
    "import statistics\n",
    "import pandas as pd\n",
    "from Bio import SeqIO\n",
    "import matplotlib.pyplot as plt\n",
    "import seaborn as sns\n",
    "import re\n",
    "import numpy as np"
   ]
  },
  {
   "cell_type": "markdown",
   "metadata": {},
   "source": [
    "### Make getorf candidates for each protein based on reference protein length distribution"
   ]
  },
  {
   "cell_type": "code",
   "execution_count": 32,
   "metadata": {},
   "outputs": [],
   "source": [
    "filenames = glob('data/refs_tobamo/*')\n",
    "getorf = pd.read_csv('data/getorf_stats.csv')\n",
    "results = pd.read_csv('../results_add_nr_taxa/results/megan6_results_combined_add_nr_taxa.csv')\n",
    "getorf_path = 'data/getorf_output.fasta'\n",
    "getorf_path_find1 = 'results/getorf_output_find1_270.fasta'"
   ]
  },
  {
   "cell_type": "code",
   "execution_count": 3,
   "metadata": {},
   "outputs": [],
   "source": [
    "ref_stats = {}\n",
    "proteins = []\n",
    "\n",
    "for file in filenames:\n",
    "    name = file.split('/')[-1].split('.')[0]\n",
    "    with open(file, 'r') as fin:\n",
    "        fasta_lens = sorted([len(r.seq) for r in SeqIO.parse(fin, 'fasta')])\n",
    "        minlen = min(fasta_lens)\n",
    "        maxlen = max(fasta_lens)\n",
    "        med = round(statistics.median(fasta_lens), 2)\n",
    "        mean = round(statistics.mean(fasta_lens), 2)\n",
    "        sd = round(statistics.stdev(fasta_lens),2)\n",
    "    proteins.append(name)\n",
    "    \n",
    "    ref_stats[name] = {'min':minlen, 'max':maxlen, 'median': med, 'mean': mean, 'stdev':sd, 'lens':fasta_lens}\n",
    "    "
   ]
  },
  {
   "cell_type": "code",
   "execution_count": 77,
   "metadata": {},
   "outputs": [
    {
     "data": {
      "text/plain": [
       "['cp', 'rdrp_orf2', 'mp', 'rdrp_orf1']"
      ]
     },
     "execution_count": 77,
     "metadata": {},
     "output_type": "execute_result"
    }
   ],
   "source": [
    "proteins"
   ]
  },
  {
   "cell_type": "code",
   "execution_count": 4,
   "metadata": {},
   "outputs": [
    {
     "data": {
      "text/html": [
       "<div>\n",
       "<style scoped>\n",
       "    .dataframe tbody tr th:only-of-type {\n",
       "        vertical-align: middle;\n",
       "    }\n",
       "\n",
       "    .dataframe tbody tr th {\n",
       "        vertical-align: top;\n",
       "    }\n",
       "\n",
       "    .dataframe thead th {\n",
       "        text-align: right;\n",
       "    }\n",
       "</style>\n",
       "<table border=\"1\" class=\"dataframe\">\n",
       "  <thead>\n",
       "    <tr style=\"text-align: right;\">\n",
       "      <th></th>\n",
       "      <th>min</th>\n",
       "      <th>max</th>\n",
       "      <th>median</th>\n",
       "      <th>mean</th>\n",
       "      <th>stdev</th>\n",
       "      <th>lens</th>\n",
       "    </tr>\n",
       "  </thead>\n",
       "  <tbody>\n",
       "    <tr>\n",
       "      <th>cp</th>\n",
       "      <td>124</td>\n",
       "      <td>208</td>\n",
       "      <td>159</td>\n",
       "      <td>160.74</td>\n",
       "      <td>10.39</td>\n",
       "      <td>[124, 134, 157, 157, 157, 157, 157, 157, 157, ...</td>\n",
       "    </tr>\n",
       "    <tr>\n",
       "      <th>rdrp_orf2</th>\n",
       "      <td>311</td>\n",
       "      <td>501</td>\n",
       "      <td>471.0</td>\n",
       "      <td>463.94</td>\n",
       "      <td>38.64</td>\n",
       "      <td>[311, 312, 393, 403, 417, 434, 435, 444, 445, ...</td>\n",
       "    </tr>\n",
       "    <tr>\n",
       "      <th>mp</th>\n",
       "      <td>216</td>\n",
       "      <td>334</td>\n",
       "      <td>267.0</td>\n",
       "      <td>272.81</td>\n",
       "      <td>21.01</td>\n",
       "      <td>[216, 219, 254, 256, 256, 256, 256, 257, 258, ...</td>\n",
       "    </tr>\n",
       "    <tr>\n",
       "      <th>rdrp_orf1</th>\n",
       "      <td>773</td>\n",
       "      <td>1166</td>\n",
       "      <td>1116</td>\n",
       "      <td>1115.04</td>\n",
       "      <td>52.81</td>\n",
       "      <td>[1081, 1097, 1100, 1100, 1103, 1103, 1103, 110...</td>\n",
       "    </tr>\n",
       "  </tbody>\n",
       "</table>\n",
       "</div>"
      ],
      "text/plain": [
       "           min   max median     mean  stdev  \\\n",
       "cp         124   208    159   160.74  10.39   \n",
       "rdrp_orf2  311   501  471.0   463.94  38.64   \n",
       "mp         216   334  267.0   272.81  21.01   \n",
       "rdrp_orf1  773  1166   1116  1115.04  52.81   \n",
       "\n",
       "                                                        lens  \n",
       "cp         [124, 134, 157, 157, 157, 157, 157, 157, 157, ...  \n",
       "rdrp_orf2  [311, 312, 393, 403, 417, 434, 435, 444, 445, ...  \n",
       "mp         [216, 219, 254, 256, 256, 256, 256, 257, 258, ...  \n",
       "rdrp_orf1  [1081, 1097, 1100, 1100, 1103, 1103, 1103, 110...  "
      ]
     },
     "execution_count": 4,
     "metadata": {},
     "output_type": "execute_result"
    }
   ],
   "source": [
    "ref_stats_df = pd.DataFrame(ref_stats).T\n",
    "# remove outlyer Gorica orf1 len 773\n",
    "ref_stats_df.loc['rdrp_orf1', 'lens'] = ref_stats_df.loc['rdrp_orf1', 'lens'][1:]\n",
    "ref_stats_df"
   ]
  },
  {
   "cell_type": "code",
   "execution_count": 16,
   "metadata": {},
   "outputs": [],
   "source": [
    "tax_info = results[['qseqid', 'megan_tax']].drop_duplicates()"
   ]
  },
  {
   "cell_type": "code",
   "execution_count": 20,
   "metadata": {},
   "outputs": [
    {
     "data": {
      "text/html": [
       "<div>\n",
       "<style scoped>\n",
       "    .dataframe tbody tr th:only-of-type {\n",
       "        vertical-align: middle;\n",
       "    }\n",
       "\n",
       "    .dataframe tbody tr th {\n",
       "        vertical-align: top;\n",
       "    }\n",
       "\n",
       "    .dataframe thead th {\n",
       "        text-align: right;\n",
       "    }\n",
       "</style>\n",
       "<table border=\"1\" class=\"dataframe\">\n",
       "  <thead>\n",
       "    <tr style=\"text-align: right;\">\n",
       "      <th></th>\n",
       "      <th>SRR</th>\n",
       "      <th>contig</th>\n",
       "      <th>orf_name</th>\n",
       "      <th>seq</th>\n",
       "      <th>seq_len</th>\n",
       "      <th>megan_tax</th>\n",
       "    </tr>\n",
       "  </thead>\n",
       "  <tbody>\n",
       "    <tr>\n",
       "      <th>0</th>\n",
       "      <td>SRR10064025</td>\n",
       "      <td>NODE_23_length_6637_cov_8.452744_SRR10064025</td>\n",
       "      <td>NODE_23_length_6637_cov_8.452744_SRR10064025_5</td>\n",
       "      <td>VLSFTFTFTFTFTFTFTFTFTFTFTFRMSQELLTVAAKQLLTDRDS...</td>\n",
       "      <td>1860</td>\n",
       "      <td>NCBI; Viruses; Riboviria; unclassified Ribovir...</td>\n",
       "    </tr>\n",
       "    <tr>\n",
       "      <th>1</th>\n",
       "      <td>SRR10143187</td>\n",
       "      <td>NODE_820_length_7832_cov_28.015990_SRR10143187</td>\n",
       "      <td>NODE_820_length_7832_cov_28.015990_SRR10143187_1</td>\n",
       "      <td>SMAKFLSRNDTVGVGNAILDKLGLDMTEILTMDVKRTDSVLRPALT...</td>\n",
       "      <td>2431</td>\n",
       "      <td>NCBI; Viruses; Riboviria; unclassified Riboviria;</td>\n",
       "    </tr>\n",
       "    <tr>\n",
       "      <th>2</th>\n",
       "      <td>SRR4934937</td>\n",
       "      <td>NODE_164_length_6583_cov_13.040594_SRR4934937</td>\n",
       "      <td>NODE_164_length_6583_cov_13.040594_SRR4934937_6</td>\n",
       "      <td>HHSEVLKLHLNEDPKVICRKPAQYCTVTSERLMFLHSIYDISTPDI...</td>\n",
       "      <td>2170</td>\n",
       "      <td>NCBI; Viruses;</td>\n",
       "    </tr>\n",
       "    <tr>\n",
       "      <th>3</th>\n",
       "      <td>SRR5087332</td>\n",
       "      <td>NODE_642_length_5647_cov_125.487840_SRR5087332</td>\n",
       "      <td>NODE_642_length_5647_cov_125.487840_SRR5087332_6</td>\n",
       "      <td>HSEVLKLHLNEDPKVICRKPAQYCTVTSERLMFLHSIYDISTPDIG...</td>\n",
       "      <td>1853</td>\n",
       "      <td>NCBI; Viruses;</td>\n",
       "    </tr>\n",
       "    <tr>\n",
       "      <th>4</th>\n",
       "      <td>SRR5087338</td>\n",
       "      <td>NODE_452_length_6783_cov_123.234691_SRR5087338</td>\n",
       "      <td>NODE_452_length_6783_cov_123.234691_SRR5087338_6</td>\n",
       "      <td>HHSEVLKLHLNEDPKVICRKPAQYCTVTSERLMFLHSIYDISTPDI...</td>\n",
       "      <td>2260</td>\n",
       "      <td>NCBI; Viruses;</td>\n",
       "    </tr>\n",
       "    <tr>\n",
       "      <th>5</th>\n",
       "      <td>SRR5087343</td>\n",
       "      <td>NODE_183_length_7400_cov_143.333696_SRR5087343</td>\n",
       "      <td>NODE_183_length_7400_cov_143.333696_SRR5087343_1</td>\n",
       "      <td>HHSEVLKLHLNEDPKVICRKPAQYCTVTSERLMFLHSIYDISTPDI...</td>\n",
       "      <td>2303</td>\n",
       "      <td>NCBI; Viruses;</td>\n",
       "    </tr>\n",
       "    <tr>\n",
       "      <th>6</th>\n",
       "      <td>SRR5087358</td>\n",
       "      <td>NODE_289_length_6524_cov_57.414747_SRR5087358</td>\n",
       "      <td>NODE_289_length_6524_cov_57.414747_SRR5087358_6</td>\n",
       "      <td>HSEVLKLHLNEDPKVICRKPAQYCTVTSERLMFLHSIYDISTPDIG...</td>\n",
       "      <td>2169</td>\n",
       "      <td>NCBI; Viruses;</td>\n",
       "    </tr>\n",
       "    <tr>\n",
       "      <th>7</th>\n",
       "      <td>SRR5087360</td>\n",
       "      <td>NODE_322_length_7045_cov_184.362232_SRR5087360</td>\n",
       "      <td>NODE_322_length_7045_cov_184.362232_SRR5087360_1</td>\n",
       "      <td>HHSEVLKLHLNEDPKVICRKPAQYCTVTSERLMFLHSIYDISTPDI...</td>\n",
       "      <td>2303</td>\n",
       "      <td>NCBI; Viruses;</td>\n",
       "    </tr>\n",
       "    <tr>\n",
       "      <th>8</th>\n",
       "      <td>SRR5087362</td>\n",
       "      <td>NODE_139_length_7691_cov_56.249869_SRR5087362</td>\n",
       "      <td>NODE_139_length_7691_cov_56.249869_SRR5087362_6</td>\n",
       "      <td>HHSEVLKLHLNEDPKVICRKPAQYCTVTSERLMFLHSIYDISTPDI...</td>\n",
       "      <td>2303</td>\n",
       "      <td>NCBI; Viruses;</td>\n",
       "    </tr>\n",
       "    <tr>\n",
       "      <th>9</th>\n",
       "      <td>SRR5087364</td>\n",
       "      <td>NODE_199_length_7663_cov_102.855284_SRR5087364</td>\n",
       "      <td>NODE_199_length_7663_cov_102.855284_SRR5087364_1</td>\n",
       "      <td>HHSEVLKLHLNEDPKVICRKPAQYCTVTSERLMFLHSIYDISTPDI...</td>\n",
       "      <td>2303</td>\n",
       "      <td>NCBI; Viruses;</td>\n",
       "    </tr>\n",
       "    <tr>\n",
       "      <th>10</th>\n",
       "      <td>SRR5087374</td>\n",
       "      <td>NODE_85_length_7730_cov_44.295505_SRR5087374</td>\n",
       "      <td>NODE_85_length_7730_cov_44.295505_SRR5087374_1</td>\n",
       "      <td>HHSEVLKLHLNEDPKVICRKPAQYCTVTSERLMFLHSIYDISTPDI...</td>\n",
       "      <td>2303</td>\n",
       "      <td>NCBI; Viruses;</td>\n",
       "    </tr>\n",
       "    <tr>\n",
       "      <th>11</th>\n",
       "      <td>SRR5087382</td>\n",
       "      <td>NODE_388_length_7112_cov_160.791129_SRR5087382</td>\n",
       "      <td>NODE_388_length_7112_cov_160.791129_SRR5087382_6</td>\n",
       "      <td>HHSEVLKLHLNEDPKVICRKPAQYCTVTSERLMFLHSIYDISTPDI...</td>\n",
       "      <td>2303</td>\n",
       "      <td>NCBI; Viruses;</td>\n",
       "    </tr>\n",
       "    <tr>\n",
       "      <th>12</th>\n",
       "      <td>SRR5087396</td>\n",
       "      <td>NODE_154_length_7328_cov_131.047573_SRR5087396</td>\n",
       "      <td>NODE_154_length_7328_cov_131.047573_SRR5087396_6</td>\n",
       "      <td>HHSEVLKLHLNEDPKVICRKPAQYCTVTSERLMFLHSIYDISTPDI...</td>\n",
       "      <td>2303</td>\n",
       "      <td>NCBI; Viruses;</td>\n",
       "    </tr>\n",
       "    <tr>\n",
       "      <th>13</th>\n",
       "      <td>SRR5087400</td>\n",
       "      <td>NODE_238_length_6528_cov_44.379731_SRR5087400</td>\n",
       "      <td>NODE_238_length_6528_cov_44.379731_SRR5087400_1</td>\n",
       "      <td>HHSEVLKLHLNEDPKVICRKPAQYCTVTSERLMFLHSIYDISTPDI...</td>\n",
       "      <td>2170</td>\n",
       "      <td>NCBI; Viruses;</td>\n",
       "    </tr>\n",
       "    <tr>\n",
       "      <th>14</th>\n",
       "      <td>SRR5087405</td>\n",
       "      <td>NODE_211_length_6524_cov_63.996754_SRR5087405</td>\n",
       "      <td>NODE_211_length_6524_cov_63.996754_SRR5087405_1</td>\n",
       "      <td>HSEVLKLHLNEDPKVICRKPAQYCTVTSERLMFLHSIYDISTPDIG...</td>\n",
       "      <td>2169</td>\n",
       "      <td>NCBI; Viruses;</td>\n",
       "    </tr>\n",
       "    <tr>\n",
       "      <th>15</th>\n",
       "      <td>SRR5087414</td>\n",
       "      <td>NODE_611_length_5373_cov_56.411245_SRR5087414</td>\n",
       "      <td>NODE_611_length_5373_cov_56.411245_SRR5087414_6</td>\n",
       "      <td>HHSEVLKLHLNEDPKVICRKPAQYCTVTSERLMFLHSIYDISTPDI...</td>\n",
       "      <td>1790</td>\n",
       "      <td>NCBI; Viruses;</td>\n",
       "    </tr>\n",
       "    <tr>\n",
       "      <th>16</th>\n",
       "      <td>SRR5186291</td>\n",
       "      <td>NODE_141_length_6984_cov_4.376140_SRR5186291</td>\n",
       "      <td>NODE_141_length_6984_cov_4.376140_SRR5186291_17</td>\n",
       "      <td>PARRSHTAKGTSLHNHTPQLTDNTLAPKNALKFYQANLQRSKLATL...</td>\n",
       "      <td>2016</td>\n",
       "      <td>NCBI; cellular organisms; Eukaryota; Opisthoko...</td>\n",
       "    </tr>\n",
       "    <tr>\n",
       "      <th>17</th>\n",
       "      <td>SRR6233755</td>\n",
       "      <td>NODE_309_length_6528_cov_12.316237_SRR6233755</td>\n",
       "      <td>NODE_309_length_6528_cov_12.316237_SRR6233755_6</td>\n",
       "      <td>HHSEVLKLHLNEDPKVICRKPAQYCTVTSERLMFLHSIYDISTPDI...</td>\n",
       "      <td>2170</td>\n",
       "      <td>NCBI; Viruses;</td>\n",
       "    </tr>\n",
       "    <tr>\n",
       "      <th>18</th>\n",
       "      <td>SRR6233757</td>\n",
       "      <td>NODE_292_length_5738_cov_31.117016_SRR6233757</td>\n",
       "      <td>NODE_292_length_5738_cov_31.117016_SRR6233757_1</td>\n",
       "      <td>HHSEVLKLHLNEDPKVICRKPAQYCTVTSERLMFLHSIYDISTPDI...</td>\n",
       "      <td>1912</td>\n",
       "      <td>NCBI; Viruses;</td>\n",
       "    </tr>\n",
       "    <tr>\n",
       "      <th>19</th>\n",
       "      <td>SRR6233765</td>\n",
       "      <td>NODE_227_length_6529_cov_31.456441_SRR6233765</td>\n",
       "      <td>NODE_227_length_6529_cov_31.456441_SRR6233765_1</td>\n",
       "      <td>HHSEVLKLHLNEDPKVICRKPAQYCTVTSERLMFLHSIYDISTPDI...</td>\n",
       "      <td>2174</td>\n",
       "      <td>NCBI; Viruses;</td>\n",
       "    </tr>\n",
       "    <tr>\n",
       "      <th>20</th>\n",
       "      <td>SRR6233770</td>\n",
       "      <td>NODE_139_length_7735_cov_22.803125_SRR6233770</td>\n",
       "      <td>NODE_139_length_7735_cov_22.803125_SRR6233770_1</td>\n",
       "      <td>HHSEVLKLHLNEDPKVICRKPAQYCTVTSERLMFLHSIYDISTPDI...</td>\n",
       "      <td>2303</td>\n",
       "      <td>NCBI; Viruses;</td>\n",
       "    </tr>\n",
       "    <tr>\n",
       "      <th>21</th>\n",
       "      <td>SRR6233791</td>\n",
       "      <td>NODE_437_length_7157_cov_22.832723_SRR6233791</td>\n",
       "      <td>NODE_437_length_7157_cov_22.832723_SRR6233791_6</td>\n",
       "      <td>HHSEVLKLHLNEDPKVICRKPAQYCTVTSERLMFLHSIYDISTPDI...</td>\n",
       "      <td>2303</td>\n",
       "      <td>NCBI; Viruses;</td>\n",
       "    </tr>\n",
       "    <tr>\n",
       "      <th>22</th>\n",
       "      <td>SRR6660821</td>\n",
       "      <td>NODE_46_length_7255_cov_4.852187_SRR6660821</td>\n",
       "      <td>NODE_46_length_7255_cov_4.852187_SRR6660821_13</td>\n",
       "      <td>NFKHNIMAGELLANSRDTLLADRNSSTYQTVDRLAAKQIEAAISSA...</td>\n",
       "      <td>1816</td>\n",
       "      <td>NCBI;</td>\n",
       "    </tr>\n",
       "    <tr>\n",
       "      <th>23</th>\n",
       "      <td>SRR7516198</td>\n",
       "      <td>NODE_8_length_6734_cov_16.234317_SRR7516198</td>\n",
       "      <td>NODE_8_length_6734_cov_16.234317_SRR7516198_3</td>\n",
       "      <td>KDFIAFYIFSFTFTFTFTFTFTFPFTFTFTFPFKMSTELLNAAAKQ...</td>\n",
       "      <td>1908</td>\n",
       "      <td>NCBI; Viruses; Riboviria; unclassified Ribovir...</td>\n",
       "    </tr>\n",
       "    <tr>\n",
       "      <th>24</th>\n",
       "      <td>SRR7976660</td>\n",
       "      <td>NODE_93_length_6589_cov_4.952549_SRR7976660</td>\n",
       "      <td>NODE_93_length_6589_cov_4.952549_SRR7976660_8</td>\n",
       "      <td>DWHSKFKTSAFRNLTERFGKMRIKALANERTLVFIPSEPYKVISEK...</td>\n",
       "      <td>2185</td>\n",
       "      <td>NCBI; Viruses; Riboviria; Orthornavirae; Kitri...</td>\n",
       "    </tr>\n",
       "    <tr>\n",
       "      <th>25</th>\n",
       "      <td>SRR8658352</td>\n",
       "      <td>NODE_143_length_7228_cov_27.916935_SRR8658352</td>\n",
       "      <td>NODE_143_length_7228_cov_27.916935_SRR8658352_2</td>\n",
       "      <td>KISRPVEGETSSPVLDRNLNFSEIQDLTGRLGMDKSLDQAVLLAAT...</td>\n",
       "      <td>2296</td>\n",
       "      <td>NCBI; Viruses;</td>\n",
       "    </tr>\n",
       "    <tr>\n",
       "      <th>26</th>\n",
       "      <td>SRR8658354</td>\n",
       "      <td>NODE_272_length_6319_cov_68.384012_SRR8658354</td>\n",
       "      <td>NODE_272_length_6319_cov_68.384012_SRR8658354_1</td>\n",
       "      <td>PTSIIRCLIFIFIFFFFSFFIFFFFFIFIMLSSISPVSAAQSGSVV...</td>\n",
       "      <td>1780</td>\n",
       "      <td>NCBI; Viruses; Riboviria; unclassified Ribovir...</td>\n",
       "    </tr>\n",
       "    <tr>\n",
       "      <th>27</th>\n",
       "      <td>SRR8658354</td>\n",
       "      <td>NODE_399_length_5743_cov_82.950935_SRR8658354</td>\n",
       "      <td>NODE_399_length_5743_cov_82.950935_SRR8658354_3</td>\n",
       "      <td>VLSFTFTFTFTFTFTFTFTFTFTFTFRMSQELLTVAAKQLLTDRDS...</td>\n",
       "      <td>1860</td>\n",
       "      <td>NCBI; Viruses; Riboviria; unclassified Ribovir...</td>\n",
       "    </tr>\n",
       "    <tr>\n",
       "      <th>28</th>\n",
       "      <td>SRR8658355</td>\n",
       "      <td>NODE_322_length_6896_cov_223.354451_SRR8658355</td>\n",
       "      <td>NODE_322_length_6896_cov_223.354451_SRR8658355_8</td>\n",
       "      <td>VLSFTFTFTFTFTFTFTFTFTFTFTFRMSQELLTVAAKQLLTDRDS...</td>\n",
       "      <td>1860</td>\n",
       "      <td>NCBI; Viruses; Riboviria; unclassified Ribovir...</td>\n",
       "    </tr>\n",
       "    <tr>\n",
       "      <th>29</th>\n",
       "      <td>SRR8658355</td>\n",
       "      <td>NODE_440_length_6334_cov_16.237654_SRR8658355</td>\n",
       "      <td>NODE_440_length_6334_cov_16.237654_SRR8658355_1</td>\n",
       "      <td>KRCLIFIFIFFFFSFFIFFFFFIFIMLSSISPVSAAQSGSVVESMD...</td>\n",
       "      <td>1776</td>\n",
       "      <td>NCBI; Viruses; Riboviria; unclassified Ribovir...</td>\n",
       "    </tr>\n",
       "    <tr>\n",
       "      <th>30</th>\n",
       "      <td>SRR8658356</td>\n",
       "      <td>NODE_85_length_6361_cov_532.734564_SRR8658356</td>\n",
       "      <td>NODE_85_length_6361_cov_532.734564_SRR8658356_5</td>\n",
       "      <td>NFQDHIAAVKRCLIFIFIFFFFSFFIFFFFFIFIMLSSISPVSAAQ...</td>\n",
       "      <td>1785</td>\n",
       "      <td>NCBI; Viruses; Riboviria; unclassified Ribovir...</td>\n",
       "    </tr>\n",
       "    <tr>\n",
       "      <th>31</th>\n",
       "      <td>SRR8658357</td>\n",
       "      <td>NODE_244_length_5617_cov_62.071480_SRR8658357</td>\n",
       "      <td>NODE_244_length_5617_cov_62.071480_SRR8658357_6</td>\n",
       "      <td>VLSFTFTFTFTFTFTFTFTFTFTFTFRMSQELLTVAAKQLLTDRDS...</td>\n",
       "      <td>1860</td>\n",
       "      <td>NCBI; Viruses; Riboviria; unclassified Ribovir...</td>\n",
       "    </tr>\n",
       "    <tr>\n",
       "      <th>32</th>\n",
       "      <td>SRR8658358</td>\n",
       "      <td>NODE_186_length_6730_cov_324.596573_SRR8658358</td>\n",
       "      <td>NODE_186_length_6730_cov_324.596573_SRR8658358_3</td>\n",
       "      <td>VLSFTFTFTFTFTFTFTFTFTFTFTFRMSQELLTVAAKQLLTDRDS...</td>\n",
       "      <td>1860</td>\n",
       "      <td>NCBI; Viruses; Riboviria; unclassified Ribovir...</td>\n",
       "    </tr>\n",
       "    <tr>\n",
       "      <th>33</th>\n",
       "      <td>SRR8658359</td>\n",
       "      <td>NODE_251_length_6673_cov_596.344603_SRR8658359</td>\n",
       "      <td>NODE_251_length_6673_cov_596.344603_SRR8658359_6</td>\n",
       "      <td>FTFTFTFTFTFTFTFRMSQELLTVAAKQLLTDRDSNLVRAIDENLT...</td>\n",
       "      <td>1849</td>\n",
       "      <td>NCBI; Viruses; Riboviria; unclassified Ribovir...</td>\n",
       "    </tr>\n",
       "    <tr>\n",
       "      <th>34</th>\n",
       "      <td>SRR8749691</td>\n",
       "      <td>NODE_70_length_6749_cov_867.399281_SRR8749691</td>\n",
       "      <td>NODE_70_length_6749_cov_867.399281_SRR8749691_3</td>\n",
       "      <td>VLSFTFTFTFTFTFTFTFTFTFTFTFRMSQELLTVAAKQLLTDRDS...</td>\n",
       "      <td>1860</td>\n",
       "      <td>NCBI; Viruses; Riboviria; unclassified Ribovir...</td>\n",
       "    </tr>\n",
       "    <tr>\n",
       "      <th>35</th>\n",
       "      <td>SRR8749692</td>\n",
       "      <td>NODE_87_length_6701_cov_659.017814_SRR8749692</td>\n",
       "      <td>NODE_87_length_6701_cov_659.017814_SRR8749692_6</td>\n",
       "      <td>FTFTFTFTFTFTFTFTFTFTFTFRMSQELLTVAAKQLLTDRDSNLV...</td>\n",
       "      <td>1857</td>\n",
       "      <td>NCBI; Viruses; Riboviria; unclassified Ribovir...</td>\n",
       "    </tr>\n",
       "    <tr>\n",
       "      <th>36</th>\n",
       "      <td>SRR8749693</td>\n",
       "      <td>NODE_251_length_6673_cov_596.344603_SRR8749693</td>\n",
       "      <td>NODE_251_length_6673_cov_596.344603_SRR8749693_6</td>\n",
       "      <td>FTFTFTFTFTFTFTFRMSQELLTVAAKQLLTDRDSNLVRAIDENLT...</td>\n",
       "      <td>1849</td>\n",
       "      <td>NCBI; Viruses; Riboviria; unclassified Ribovir...</td>\n",
       "    </tr>\n",
       "    <tr>\n",
       "      <th>37</th>\n",
       "      <td>SRR8749694</td>\n",
       "      <td>NODE_186_length_6730_cov_324.596573_SRR8749694</td>\n",
       "      <td>NODE_186_length_6730_cov_324.596573_SRR8749694_3</td>\n",
       "      <td>VLSFTFTFTFTFTFTFTFTFTFTFTFRMSQELLTVAAKQLLTDRDS...</td>\n",
       "      <td>1860</td>\n",
       "      <td>NCBI; Viruses; Riboviria; unclassified Ribovir...</td>\n",
       "    </tr>\n",
       "    <tr>\n",
       "      <th>38</th>\n",
       "      <td>SRR8749695</td>\n",
       "      <td>NODE_244_length_5617_cov_62.071480_SRR8749695</td>\n",
       "      <td>NODE_244_length_5617_cov_62.071480_SRR8749695_6</td>\n",
       "      <td>VLSFTFTFTFTFTFTFTFTFTFTFTFRMSQELLTVAAKQLLTDRDS...</td>\n",
       "      <td>1860</td>\n",
       "      <td>NCBI; Viruses; Riboviria; unclassified Ribovir...</td>\n",
       "    </tr>\n",
       "    <tr>\n",
       "      <th>39</th>\n",
       "      <td>SRR8749696</td>\n",
       "      <td>NODE_157_length_6711_cov_657.899005_SRR8749696</td>\n",
       "      <td>NODE_157_length_6711_cov_657.899005_SRR8749696_3</td>\n",
       "      <td>VLSFTFTFTFTFTFTFTFTFTFTFTFRMSQELLTVAAKQLLTDRDS...</td>\n",
       "      <td>1860</td>\n",
       "      <td>NCBI; Viruses; Riboviria; unclassified Ribovir...</td>\n",
       "    </tr>\n",
       "    <tr>\n",
       "      <th>40</th>\n",
       "      <td>SRR9317871</td>\n",
       "      <td>NODE_10_length_7298_cov_9.011435_SRR9317871</td>\n",
       "      <td>NODE_10_length_7298_cov_9.011435_SRR9317871_11</td>\n",
       "      <td>VKGLFILIYSTLSNDDRATIESERAKIIGRIFKNQLASAYTHKYAV...</td>\n",
       "      <td>1791</td>\n",
       "      <td>NCBI; Viruses; Riboviria; unclassified Ribovir...</td>\n",
       "    </tr>\n",
       "  </tbody>\n",
       "</table>\n",
       "</div>"
      ],
      "text/plain": [
       "            SRR                                          contig  \\\n",
       "0   SRR10064025    NODE_23_length_6637_cov_8.452744_SRR10064025   \n",
       "1   SRR10143187  NODE_820_length_7832_cov_28.015990_SRR10143187   \n",
       "2    SRR4934937   NODE_164_length_6583_cov_13.040594_SRR4934937   \n",
       "3    SRR5087332  NODE_642_length_5647_cov_125.487840_SRR5087332   \n",
       "4    SRR5087338  NODE_452_length_6783_cov_123.234691_SRR5087338   \n",
       "5    SRR5087343  NODE_183_length_7400_cov_143.333696_SRR5087343   \n",
       "6    SRR5087358   NODE_289_length_6524_cov_57.414747_SRR5087358   \n",
       "7    SRR5087360  NODE_322_length_7045_cov_184.362232_SRR5087360   \n",
       "8    SRR5087362   NODE_139_length_7691_cov_56.249869_SRR5087362   \n",
       "9    SRR5087364  NODE_199_length_7663_cov_102.855284_SRR5087364   \n",
       "10   SRR5087374    NODE_85_length_7730_cov_44.295505_SRR5087374   \n",
       "11   SRR5087382  NODE_388_length_7112_cov_160.791129_SRR5087382   \n",
       "12   SRR5087396  NODE_154_length_7328_cov_131.047573_SRR5087396   \n",
       "13   SRR5087400   NODE_238_length_6528_cov_44.379731_SRR5087400   \n",
       "14   SRR5087405   NODE_211_length_6524_cov_63.996754_SRR5087405   \n",
       "15   SRR5087414   NODE_611_length_5373_cov_56.411245_SRR5087414   \n",
       "16   SRR5186291    NODE_141_length_6984_cov_4.376140_SRR5186291   \n",
       "17   SRR6233755   NODE_309_length_6528_cov_12.316237_SRR6233755   \n",
       "18   SRR6233757   NODE_292_length_5738_cov_31.117016_SRR6233757   \n",
       "19   SRR6233765   NODE_227_length_6529_cov_31.456441_SRR6233765   \n",
       "20   SRR6233770   NODE_139_length_7735_cov_22.803125_SRR6233770   \n",
       "21   SRR6233791   NODE_437_length_7157_cov_22.832723_SRR6233791   \n",
       "22   SRR6660821     NODE_46_length_7255_cov_4.852187_SRR6660821   \n",
       "23   SRR7516198     NODE_8_length_6734_cov_16.234317_SRR7516198   \n",
       "24   SRR7976660     NODE_93_length_6589_cov_4.952549_SRR7976660   \n",
       "25   SRR8658352   NODE_143_length_7228_cov_27.916935_SRR8658352   \n",
       "26   SRR8658354   NODE_272_length_6319_cov_68.384012_SRR8658354   \n",
       "27   SRR8658354   NODE_399_length_5743_cov_82.950935_SRR8658354   \n",
       "28   SRR8658355  NODE_322_length_6896_cov_223.354451_SRR8658355   \n",
       "29   SRR8658355   NODE_440_length_6334_cov_16.237654_SRR8658355   \n",
       "30   SRR8658356   NODE_85_length_6361_cov_532.734564_SRR8658356   \n",
       "31   SRR8658357   NODE_244_length_5617_cov_62.071480_SRR8658357   \n",
       "32   SRR8658358  NODE_186_length_6730_cov_324.596573_SRR8658358   \n",
       "33   SRR8658359  NODE_251_length_6673_cov_596.344603_SRR8658359   \n",
       "34   SRR8749691   NODE_70_length_6749_cov_867.399281_SRR8749691   \n",
       "35   SRR8749692   NODE_87_length_6701_cov_659.017814_SRR8749692   \n",
       "36   SRR8749693  NODE_251_length_6673_cov_596.344603_SRR8749693   \n",
       "37   SRR8749694  NODE_186_length_6730_cov_324.596573_SRR8749694   \n",
       "38   SRR8749695   NODE_244_length_5617_cov_62.071480_SRR8749695   \n",
       "39   SRR8749696  NODE_157_length_6711_cov_657.899005_SRR8749696   \n",
       "40   SRR9317871     NODE_10_length_7298_cov_9.011435_SRR9317871   \n",
       "\n",
       "                                            orf_name  \\\n",
       "0     NODE_23_length_6637_cov_8.452744_SRR10064025_5   \n",
       "1   NODE_820_length_7832_cov_28.015990_SRR10143187_1   \n",
       "2    NODE_164_length_6583_cov_13.040594_SRR4934937_6   \n",
       "3   NODE_642_length_5647_cov_125.487840_SRR5087332_6   \n",
       "4   NODE_452_length_6783_cov_123.234691_SRR5087338_6   \n",
       "5   NODE_183_length_7400_cov_143.333696_SRR5087343_1   \n",
       "6    NODE_289_length_6524_cov_57.414747_SRR5087358_6   \n",
       "7   NODE_322_length_7045_cov_184.362232_SRR5087360_1   \n",
       "8    NODE_139_length_7691_cov_56.249869_SRR5087362_6   \n",
       "9   NODE_199_length_7663_cov_102.855284_SRR5087364_1   \n",
       "10    NODE_85_length_7730_cov_44.295505_SRR5087374_1   \n",
       "11  NODE_388_length_7112_cov_160.791129_SRR5087382_6   \n",
       "12  NODE_154_length_7328_cov_131.047573_SRR5087396_6   \n",
       "13   NODE_238_length_6528_cov_44.379731_SRR5087400_1   \n",
       "14   NODE_211_length_6524_cov_63.996754_SRR5087405_1   \n",
       "15   NODE_611_length_5373_cov_56.411245_SRR5087414_6   \n",
       "16   NODE_141_length_6984_cov_4.376140_SRR5186291_17   \n",
       "17   NODE_309_length_6528_cov_12.316237_SRR6233755_6   \n",
       "18   NODE_292_length_5738_cov_31.117016_SRR6233757_1   \n",
       "19   NODE_227_length_6529_cov_31.456441_SRR6233765_1   \n",
       "20   NODE_139_length_7735_cov_22.803125_SRR6233770_1   \n",
       "21   NODE_437_length_7157_cov_22.832723_SRR6233791_6   \n",
       "22    NODE_46_length_7255_cov_4.852187_SRR6660821_13   \n",
       "23     NODE_8_length_6734_cov_16.234317_SRR7516198_3   \n",
       "24     NODE_93_length_6589_cov_4.952549_SRR7976660_8   \n",
       "25   NODE_143_length_7228_cov_27.916935_SRR8658352_2   \n",
       "26   NODE_272_length_6319_cov_68.384012_SRR8658354_1   \n",
       "27   NODE_399_length_5743_cov_82.950935_SRR8658354_3   \n",
       "28  NODE_322_length_6896_cov_223.354451_SRR8658355_8   \n",
       "29   NODE_440_length_6334_cov_16.237654_SRR8658355_1   \n",
       "30   NODE_85_length_6361_cov_532.734564_SRR8658356_5   \n",
       "31   NODE_244_length_5617_cov_62.071480_SRR8658357_6   \n",
       "32  NODE_186_length_6730_cov_324.596573_SRR8658358_3   \n",
       "33  NODE_251_length_6673_cov_596.344603_SRR8658359_6   \n",
       "34   NODE_70_length_6749_cov_867.399281_SRR8749691_3   \n",
       "35   NODE_87_length_6701_cov_659.017814_SRR8749692_6   \n",
       "36  NODE_251_length_6673_cov_596.344603_SRR8749693_6   \n",
       "37  NODE_186_length_6730_cov_324.596573_SRR8749694_3   \n",
       "38   NODE_244_length_5617_cov_62.071480_SRR8749695_6   \n",
       "39  NODE_157_length_6711_cov_657.899005_SRR8749696_3   \n",
       "40    NODE_10_length_7298_cov_9.011435_SRR9317871_11   \n",
       "\n",
       "                                                  seq  seq_len  \\\n",
       "0   VLSFTFTFTFTFTFTFTFTFTFTFTFRMSQELLTVAAKQLLTDRDS...     1860   \n",
       "1   SMAKFLSRNDTVGVGNAILDKLGLDMTEILTMDVKRTDSVLRPALT...     2431   \n",
       "2   HHSEVLKLHLNEDPKVICRKPAQYCTVTSERLMFLHSIYDISTPDI...     2170   \n",
       "3   HSEVLKLHLNEDPKVICRKPAQYCTVTSERLMFLHSIYDISTPDIG...     1853   \n",
       "4   HHSEVLKLHLNEDPKVICRKPAQYCTVTSERLMFLHSIYDISTPDI...     2260   \n",
       "5   HHSEVLKLHLNEDPKVICRKPAQYCTVTSERLMFLHSIYDISTPDI...     2303   \n",
       "6   HSEVLKLHLNEDPKVICRKPAQYCTVTSERLMFLHSIYDISTPDIG...     2169   \n",
       "7   HHSEVLKLHLNEDPKVICRKPAQYCTVTSERLMFLHSIYDISTPDI...     2303   \n",
       "8   HHSEVLKLHLNEDPKVICRKPAQYCTVTSERLMFLHSIYDISTPDI...     2303   \n",
       "9   HHSEVLKLHLNEDPKVICRKPAQYCTVTSERLMFLHSIYDISTPDI...     2303   \n",
       "10  HHSEVLKLHLNEDPKVICRKPAQYCTVTSERLMFLHSIYDISTPDI...     2303   \n",
       "11  HHSEVLKLHLNEDPKVICRKPAQYCTVTSERLMFLHSIYDISTPDI...     2303   \n",
       "12  HHSEVLKLHLNEDPKVICRKPAQYCTVTSERLMFLHSIYDISTPDI...     2303   \n",
       "13  HHSEVLKLHLNEDPKVICRKPAQYCTVTSERLMFLHSIYDISTPDI...     2170   \n",
       "14  HSEVLKLHLNEDPKVICRKPAQYCTVTSERLMFLHSIYDISTPDIG...     2169   \n",
       "15  HHSEVLKLHLNEDPKVICRKPAQYCTVTSERLMFLHSIYDISTPDI...     1790   \n",
       "16  PARRSHTAKGTSLHNHTPQLTDNTLAPKNALKFYQANLQRSKLATL...     2016   \n",
       "17  HHSEVLKLHLNEDPKVICRKPAQYCTVTSERLMFLHSIYDISTPDI...     2170   \n",
       "18  HHSEVLKLHLNEDPKVICRKPAQYCTVTSERLMFLHSIYDISTPDI...     1912   \n",
       "19  HHSEVLKLHLNEDPKVICRKPAQYCTVTSERLMFLHSIYDISTPDI...     2174   \n",
       "20  HHSEVLKLHLNEDPKVICRKPAQYCTVTSERLMFLHSIYDISTPDI...     2303   \n",
       "21  HHSEVLKLHLNEDPKVICRKPAQYCTVTSERLMFLHSIYDISTPDI...     2303   \n",
       "22  NFKHNIMAGELLANSRDTLLADRNSSTYQTVDRLAAKQIEAAISSA...     1816   \n",
       "23  KDFIAFYIFSFTFTFTFTFTFTFPFTFTFTFPFKMSTELLNAAAKQ...     1908   \n",
       "24  DWHSKFKTSAFRNLTERFGKMRIKALANERTLVFIPSEPYKVISEK...     2185   \n",
       "25  KISRPVEGETSSPVLDRNLNFSEIQDLTGRLGMDKSLDQAVLLAAT...     2296   \n",
       "26  PTSIIRCLIFIFIFFFFSFFIFFFFFIFIMLSSISPVSAAQSGSVV...     1780   \n",
       "27  VLSFTFTFTFTFTFTFTFTFTFTFTFRMSQELLTVAAKQLLTDRDS...     1860   \n",
       "28  VLSFTFTFTFTFTFTFTFTFTFTFTFRMSQELLTVAAKQLLTDRDS...     1860   \n",
       "29  KRCLIFIFIFFFFSFFIFFFFFIFIMLSSISPVSAAQSGSVVESMD...     1776   \n",
       "30  NFQDHIAAVKRCLIFIFIFFFFSFFIFFFFFIFIMLSSISPVSAAQ...     1785   \n",
       "31  VLSFTFTFTFTFTFTFTFTFTFTFTFRMSQELLTVAAKQLLTDRDS...     1860   \n",
       "32  VLSFTFTFTFTFTFTFTFTFTFTFTFRMSQELLTVAAKQLLTDRDS...     1860   \n",
       "33  FTFTFTFTFTFTFTFRMSQELLTVAAKQLLTDRDSNLVRAIDENLT...     1849   \n",
       "34  VLSFTFTFTFTFTFTFTFTFTFTFTFRMSQELLTVAAKQLLTDRDS...     1860   \n",
       "35  FTFTFTFTFTFTFTFTFTFTFTFRMSQELLTVAAKQLLTDRDSNLV...     1857   \n",
       "36  FTFTFTFTFTFTFTFRMSQELLTVAAKQLLTDRDSNLVRAIDENLT...     1849   \n",
       "37  VLSFTFTFTFTFTFTFTFTFTFTFTFRMSQELLTVAAKQLLTDRDS...     1860   \n",
       "38  VLSFTFTFTFTFTFTFTFTFTFTFTFRMSQELLTVAAKQLLTDRDS...     1860   \n",
       "39  VLSFTFTFTFTFTFTFTFTFTFTFTFRMSQELLTVAAKQLLTDRDS...     1860   \n",
       "40  VKGLFILIYSTLSNDDRATIESERAKIIGRIFKNQLASAYTHKYAV...     1791   \n",
       "\n",
       "                                            megan_tax  \n",
       "0   NCBI; Viruses; Riboviria; unclassified Ribovir...  \n",
       "1   NCBI; Viruses; Riboviria; unclassified Riboviria;  \n",
       "2                                      NCBI; Viruses;  \n",
       "3                                      NCBI; Viruses;  \n",
       "4                                      NCBI; Viruses;  \n",
       "5                                      NCBI; Viruses;  \n",
       "6                                      NCBI; Viruses;  \n",
       "7                                      NCBI; Viruses;  \n",
       "8                                      NCBI; Viruses;  \n",
       "9                                      NCBI; Viruses;  \n",
       "10                                     NCBI; Viruses;  \n",
       "11                                     NCBI; Viruses;  \n",
       "12                                     NCBI; Viruses;  \n",
       "13                                     NCBI; Viruses;  \n",
       "14                                     NCBI; Viruses;  \n",
       "15                                     NCBI; Viruses;  \n",
       "16  NCBI; cellular organisms; Eukaryota; Opisthoko...  \n",
       "17                                     NCBI; Viruses;  \n",
       "18                                     NCBI; Viruses;  \n",
       "19                                     NCBI; Viruses;  \n",
       "20                                     NCBI; Viruses;  \n",
       "21                                     NCBI; Viruses;  \n",
       "22                                              NCBI;  \n",
       "23  NCBI; Viruses; Riboviria; unclassified Ribovir...  \n",
       "24  NCBI; Viruses; Riboviria; Orthornavirae; Kitri...  \n",
       "25                                     NCBI; Viruses;  \n",
       "26  NCBI; Viruses; Riboviria; unclassified Ribovir...  \n",
       "27  NCBI; Viruses; Riboviria; unclassified Ribovir...  \n",
       "28  NCBI; Viruses; Riboviria; unclassified Ribovir...  \n",
       "29  NCBI; Viruses; Riboviria; unclassified Ribovir...  \n",
       "30  NCBI; Viruses; Riboviria; unclassified Ribovir...  \n",
       "31  NCBI; Viruses; Riboviria; unclassified Ribovir...  \n",
       "32  NCBI; Viruses; Riboviria; unclassified Ribovir...  \n",
       "33  NCBI; Viruses; Riboviria; unclassified Ribovir...  \n",
       "34  NCBI; Viruses; Riboviria; unclassified Ribovir...  \n",
       "35  NCBI; Viruses; Riboviria; unclassified Ribovir...  \n",
       "36  NCBI; Viruses; Riboviria; unclassified Ribovir...  \n",
       "37  NCBI; Viruses; Riboviria; unclassified Ribovir...  \n",
       "38  NCBI; Viruses; Riboviria; unclassified Ribovir...  \n",
       "39  NCBI; Viruses; Riboviria; unclassified Ribovir...  \n",
       "40  NCBI; Viruses; Riboviria; unclassified Ribovir...  "
      ]
     },
     "execution_count": 20,
     "metadata": {},
     "output_type": "execute_result"
    }
   ],
   "source": [
    "long_orfs = getorf[getorf['seq_len'] > 1700]\n",
    "long_orfs.merge(tax_info, how='left', left_on='contig', right_on='qseqid').drop(columns=['qseqid'])"
   ]
  },
  {
   "cell_type": "code",
   "execution_count": 21,
   "metadata": {},
   "outputs": [],
   "source": [
    "potential_whole_rdrps = getorf[(getorf['seq_len'] > 1117) & (getorf['seq_len'] < 1700)]"
   ]
  },
  {
   "cell_type": "code",
   "execution_count": 30,
   "metadata": {},
   "outputs": [],
   "source": [
    "potential_whole_rdrp_orfs = list(potential_whole_rdrps.orf_name)"
   ]
  },
  {
   "cell_type": "code",
   "execution_count": 31,
   "metadata": {},
   "outputs": [],
   "source": [
    "fasta_out = 'results/potential_whole_rdrps.fasta'\n",
    "\n",
    "# make new filtered fasta\n",
    "with open(getorf_path, \"r\") as file, open(fasta_out, \"w\") as outfile:\n",
    "    out_seq = (r for r in SeqIO.parse(file, \"fasta\") if r.id in potential_whole_rdrp_orfs)\n",
    "    SeqIO.write(out_seq, outfile, \"fasta\")"
   ]
  },
  {
   "cell_type": "code",
   "execution_count": 23,
   "metadata": {},
   "outputs": [
    {
     "data": {
      "text/plain": [
       "1649"
      ]
     },
     "execution_count": 23,
     "metadata": {},
     "output_type": "execute_result"
    }
   ],
   "source": [
    "x = getorf[getorf['SRR'] == 'SRR6846476']\n",
    "x.contig.nunique()"
   ]
  },
  {
   "cell_type": "code",
   "execution_count": 24,
   "metadata": {},
   "outputs": [
    {
     "data": {
      "text/plain": [
       "contig\n",
       "k141_356774_flag=1_multi=17.0000_len=5797_SRR6846476    27\n",
       "NODE_141_length_6984_cov_4.376140_SRR5186291            17\n",
       "NODE_836_length_7143_cov_21.835073_SRR3624128           17\n",
       "k141_903112_flag=0_multi=26.8643_len=4650_SRR6846476    16\n",
       "k141_602825_flag=1_multi=23.0000_len=6559_SRR6846476    16\n",
       "dtype: int64"
      ]
     },
     "execution_count": 24,
     "metadata": {},
     "output_type": "execute_result"
    }
   ],
   "source": [
    "getorf.groupby('contig').size().sort_values(ascending=False).head()"
   ]
  },
  {
   "cell_type": "code",
   "execution_count": 15,
   "metadata": {},
   "outputs": [
    {
     "data": {
      "text/plain": [
       "SRR\n",
       "SRR6846476    3198\n",
       "SRR1781945      99\n",
       "SRR8554352      85\n",
       "SRR1782579      82\n",
       "SRR4242136      76\n",
       "dtype: int64"
      ]
     },
     "execution_count": 15,
     "metadata": {},
     "output_type": "execute_result"
    }
   ],
   "source": [
    "# SRR6846476 - 3198 ORFs (suspicious)\n",
    "getorf.groupby('SRR').size().sort_values(ascending=False).head()"
   ]
  },
  {
   "cell_type": "code",
   "execution_count": 13,
   "metadata": {},
   "outputs": [
    {
     "data": {
      "image/png": "[encoded data removed]",
      "text/plain": [
       "<Figure size 700x300 with 1 Axes>"
      ]
     },
     "metadata": {},
     "output_type": "display_data"
    }
   ],
   "source": [
    "fig, ax = plt.subplots(figsize=(7,3))\n",
    "fig = sns.kdeplot(getorf.seq_len, fill=True)"
   ]
  },
  {
   "cell_type": "code",
   "execution_count": 43,
   "metadata": {},
   "outputs": [],
   "source": [
    "# help(GMM)"
   ]
  },
  {
   "cell_type": "code",
   "execution_count": 53,
   "metadata": {},
   "outputs": [],
   "source": [
    "getorf_270_1120 = getorf[(270 < getorf.seq_len) & (getorf.seq_len < 1120)]"
   ]
  },
  {
   "cell_type": "code",
   "execution_count": 56,
   "metadata": {},
   "outputs": [
    {
     "data": {
      "image/png": "[encoded data removed]",
      "text/plain": [
       "<Figure size 1200x300 with 1 Axes>"
      ]
     },
     "metadata": {},
     "output_type": "display_data"
    }
   ],
   "source": [
    "fig, ax = plt.subplots(figsize=(12,3))\n",
    "\n",
    "sns.histplot(data=getorf_270_1120, x='seq_len', bins=100)\n",
    "# plt.xlim(150,1500)\n",
    "# plt.ylim(0,100)\n",
    "plt.show()"
   ]
  },
  {
   "cell_type": "code",
   "execution_count": 70,
   "metadata": {},
   "outputs": [
    {
     "data": {
      "image/png": "[encoded data removed]",
      "text/plain": [
       "<Figure size 1200x300 with 1 Axes>"
      ]
     },
     "metadata": {},
     "output_type": "display_data"
    }
   ],
   "source": [
    "fig, ax = plt.subplots(figsize=(12,3))\n",
    "\n",
    "sns.histplot(data=getorf, x='seq_len', bins=200)\n",
    "plt.xlim(200,2600)\n",
    "plt.ylim(0,150)\n",
    "plt.show()"
   ]
  },
  {
   "cell_type": "code",
   "execution_count": 21,
   "metadata": {},
   "outputs": [
    {
     "data": {
      "text/html": [
       "<div>\n",
       "<style scoped>\n",
       "    .dataframe tbody tr th:only-of-type {\n",
       "        vertical-align: middle;\n",
       "    }\n",
       "\n",
       "    .dataframe tbody tr th {\n",
       "        vertical-align: top;\n",
       "    }\n",
       "\n",
       "    .dataframe thead th {\n",
       "        text-align: right;\n",
       "    }\n",
       "</style>\n",
       "<table border=\"1\" class=\"dataframe\">\n",
       "  <thead>\n",
       "    <tr style=\"text-align: right;\">\n",
       "      <th></th>\n",
       "      <th>min</th>\n",
       "      <th>max</th>\n",
       "      <th>median</th>\n",
       "      <th>mean</th>\n",
       "      <th>stdev</th>\n",
       "      <th>lens</th>\n",
       "    </tr>\n",
       "  </thead>\n",
       "  <tbody>\n",
       "    <tr>\n",
       "      <th>cp</th>\n",
       "      <td>124</td>\n",
       "      <td>208</td>\n",
       "      <td>159</td>\n",
       "      <td>160.74</td>\n",
       "      <td>10.39</td>\n",
       "      <td>[124, 134, 157, 157, 157, 157, 157, 157, 157, ...</td>\n",
       "    </tr>\n",
       "    <tr>\n",
       "      <th>rdrp_orf2</th>\n",
       "      <td>311</td>\n",
       "      <td>501</td>\n",
       "      <td>471.0</td>\n",
       "      <td>463.94</td>\n",
       "      <td>38.64</td>\n",
       "      <td>[311, 312, 393, 403, 417, 434, 435, 444, 445, ...</td>\n",
       "    </tr>\n",
       "    <tr>\n",
       "      <th>mp</th>\n",
       "      <td>216</td>\n",
       "      <td>334</td>\n",
       "      <td>267.0</td>\n",
       "      <td>272.81</td>\n",
       "      <td>21.01</td>\n",
       "      <td>[216, 219, 254, 256, 256, 256, 256, 257, 258, ...</td>\n",
       "    </tr>\n",
       "    <tr>\n",
       "      <th>rdrp_orf1</th>\n",
       "      <td>773</td>\n",
       "      <td>1166</td>\n",
       "      <td>1116</td>\n",
       "      <td>1115.04</td>\n",
       "      <td>52.81</td>\n",
       "      <td>[773, 1081, 1097, 1100, 1100, 1103, 1103, 1103...</td>\n",
       "    </tr>\n",
       "  </tbody>\n",
       "</table>\n",
       "</div>"
      ],
      "text/plain": [
       "           min   max median     mean  stdev  \\\n",
       "cp         124   208    159   160.74  10.39   \n",
       "rdrp_orf2  311   501  471.0   463.94  38.64   \n",
       "mp         216   334  267.0   272.81  21.01   \n",
       "rdrp_orf1  773  1166   1116  1115.04  52.81   \n",
       "\n",
       "                                                        lens  \n",
       "cp         [124, 134, 157, 157, 157, 157, 157, 157, 157, ...  \n",
       "rdrp_orf2  [311, 312, 393, 403, 417, 434, 435, 444, 445, ...  \n",
       "mp         [216, 219, 254, 256, 256, 256, 256, 257, 258, ...  \n",
       "rdrp_orf1  [773, 1081, 1097, 1100, 1100, 1103, 1103, 1103...  "
      ]
     },
     "execution_count": 21,
     "metadata": {},
     "output_type": "execute_result"
    }
   ],
   "source": [
    "ref_stats_df"
   ]
  },
  {
   "cell_type": "code",
   "execution_count": 32,
   "metadata": {},
   "outputs": [],
   "source": [
    "# Regular expression pattern to extract length or len\n",
    "pattern = r'(?:length|len)_(\\d+)'\n",
    "\n",
    "# Function to extract length\n",
    "def extract_length(text):\n",
    "    match = re.search(pattern, text)\n",
    "    if match:\n",
    "        return int(match.group(1))\n",
    "    else:\n",
    "        return None\n",
    "\n",
    "# Create new column 'Length' by applying the function to the 'ID' column\n",
    "getorf['contig_length'] = getorf['contig'].apply(extract_length)"
   ]
  },
  {
   "cell_type": "code",
   "execution_count": 35,
   "metadata": {},
   "outputs": [
    {
     "data": {
      "image/png": "[encoded data removed]",
      "text/plain": [
       "<Figure size 1200x500 with 1 Axes>"
      ]
     },
     "metadata": {},
     "output_type": "display_data"
    }
   ],
   "source": [
    "df = getorf\n",
    "orf_counts = df.groupby('contig').size()\n",
    "\n",
    "fig, ax = plt.subplots(figsize=(12,5))\n",
    "plt.scatter(df['contig_length'], df['contig'].map(orf_counts))\n",
    "plt.xlabel('Contig Length')\n",
    "plt.ylabel('Number of ORFs per Contig')\n",
    "plt.title('Scatter Plot: Contig Length vs Number of ORFs per Contig')\n",
    "plt.grid(True)\n",
    "plt.show()"
   ]
  },
  {
   "cell_type": "markdown",
   "metadata": {},
   "source": [
    "#### Filter getorf fasta based on orf len"
   ]
  },
  {
   "cell_type": "code",
   "execution_count": 71,
   "metadata": {},
   "outputs": [
    {
     "name": "stdout",
     "output_type": "stream",
     "text": [
      "113.61 218.39\n",
      "272.36 539.64\n",
      "194.99 355.01\n",
      "720.19 1218.81\n"
     ]
    }
   ],
   "source": [
    "for protein in proteins:\n",
    "    fasta_out = f\"results/getorf_candidates/getorf_{protein}_candidates.fasta\"\n",
    "    min_lim = ref_stats_df['min'].loc[f'{protein}'] - ref_stats_df['stdev'].loc[f'{protein}'] \n",
    "    max_lim = ref_stats_df['max'].loc[f'{protein}'] + ref_stats_df['stdev'].loc[f'{protein}']\n",
    "    \n",
    "    print(min_lim,max_lim)\n",
    "    # # make new filtered fasta\n",
    "    # with open(getorf_path, \"r\") as file, open(fasta_out, \"w\") as outfile:\n",
    "    #     out_seq = (r for r in SeqIO.parse(file, \"fasta\") if min_lim < len(r.seq) < max_lim)\n",
    "    #     SeqIO.write(out_seq, outfile, \"fasta\")"
   ]
  },
  {
   "cell_type": "markdown",
   "metadata": {},
   "source": [
    "compare FIND1 and FIND0"
   ]
  },
  {
   "cell_type": "code",
   "execution_count": 35,
   "metadata": {},
   "outputs": [],
   "source": [
    "getorf_path_find0 = 'data/getorf_output.fasta'\n",
    "getorf_path_find1 = 'results/getorf_output_find1_270.fasta'"
   ]
  },
  {
   "cell_type": "code",
   "execution_count": 36,
   "metadata": {},
   "outputs": [],
   "source": [
    "def parse_fasta_to_df(fasta_file):\n",
    "    sequences = []\n",
    "    for record in SeqIO.parse(fasta_file, \"fasta\"):\n",
    "        sequences.append((record.id, str(record.seq)))\n",
    "\n",
    "    df = pd.DataFrame(sequences, columns=[\"orf_name\", \"seq\"])\n",
    "\n",
    "    def remove_last_number(s):\n",
    "        return re.sub(r\"_(\\d+)$\", \"\", s)\n",
    "\n",
    "    df['contig'] = df['orf_name'].apply(lambda x: remove_last_number(x))\n",
    "    df[\"SRR\"] = df[\"contig\"].str.extract(r\"_([A-Za-z0-9]+)$\")\n",
    "    df['seq_len'] = df['seq'].apply(len)\n",
    "\n",
    "    columns = ['SRR', 'contig', 'orf_name', 'seq', 'seq_len']\n",
    "    df = df[columns]\n",
    "    return df"
   ]
  },
  {
   "cell_type": "code",
   "execution_count": 53,
   "metadata": {},
   "outputs": [],
   "source": [
    "getorf0 = parse_fasta_to_df(getorf_path_find0)\n",
    "getorf1 = parse_fasta_to_df(getorf_path_find1)"
   ]
  },
  {
   "cell_type": "code",
   "execution_count": 54,
   "metadata": {},
   "outputs": [],
   "source": [
    "getorf1 = getorf1.rename(columns={'seq_len':'getorf1_seq_len'})\n",
    "getorf0 = getorf0.rename(columns={'seq_len':'getorf0_seq_len'})"
   ]
  },
  {
   "cell_type": "markdown",
   "metadata": {},
   "source": [
    "GETORF FIND 1 minsize = 360, maxsize = 3510"
   ]
  },
  {
   "cell_type": "code",
   "execution_count": 98,
   "metadata": {},
   "outputs": [],
   "source": [
    "getorf_270_3510 = parse_fasta_to_df('/home/tobamo/analize/project-tobamo/analysis/whole_orf/results/getorf_output_find1_min_360_max_3510.fasta')\n",
    "getorf_270_3510_tobamo = parse_fasta_to_df('/home/tobamo/analize/project-tobamo/analysis/whole_orf/results/getorf_output_find1_min_360_max_3510_reference_tobamo.fasta')"
   ]
  },
  {
   "cell_type": "code",
   "execution_count": 107,
   "metadata": {},
   "outputs": [
    {
     "data": {
      "text/plain": [
       "Text(0.5, 1.0, 'Tobamo reference genome GETORF results')"
      ]
     },
     "execution_count": 107,
     "metadata": {},
     "output_type": "execute_result"
    },
    {
     "data": {
      "image/png": "[encoded data removed]",
      "text/plain": [
       "<Figure size 700x300 with 1 Axes>"
      ]
     },
     "metadata": {},
     "output_type": "display_data"
    }
   ],
   "source": [
    "fig, ax = plt.subplots(figsize=(7,3))\n",
    "fig = sns.kdeplot(getorf_270_3510_tobamo.seq_len, fill=True, color='orange')\n",
    "\n",
    "# Add vertical lines\n",
    "vertical_lines = [1115.04, 272.81, 463.94, 160.74]  # List of x-values for vertical lines\n",
    "for x in vertical_lines:\n",
    "    ax.axvline(x=x, color='black', linestyle='--')\n",
    "\n",
    "ax.set_ylim(0, 0.005)\n",
    "ax.set_title('Tobamo reference genome GETORF results')"
   ]
  },
  {
   "cell_type": "code",
   "execution_count": 158,
   "metadata": {},
   "outputs": [
    {
     "data": {
      "text/plain": [
       "Text(0.5, 1.0, 'number of ORFs per reference genome')"
      ]
     },
     "execution_count": 158,
     "metadata": {},
     "output_type": "execute_result"
    },
    {
     "data": {
      "image/png": "[encoded data removed]",
      "text/plain": [
       "<Figure size 640x480 with 1 Axes>"
      ]
     },
     "metadata": {},
     "output_type": "display_data"
    }
   ],
   "source": [
    "contig_value_counts = getorf_270_3510_tobamo['contig'].value_counts()\n",
    "\n",
    "fig = sns.histplot(x=contig_value_counts, discrete=True, hue = contig_value_counts, palette = 'colorblind', legend=False)\n",
    "fig.set_title('number of ORFs per reference genome')"
   ]
  },
  {
   "cell_type": "code",
   "execution_count": 96,
   "metadata": {},
   "outputs": [
    {
     "data": {
      "image/png": "[encoded data removed]",
      "text/plain": [
       "<Figure size 700x300 with 1 Axes>"
      ]
     },
     "metadata": {},
     "output_type": "display_data"
    }
   ],
   "source": [
    "fig, ax = plt.subplots(figsize=(7,3))\n",
    "fig = sns.kdeplot(getorf_270_3510.seq_len, fill=True)\n",
    "\n",
    "# Add vertical lines\n",
    "vertical_lines = [1115.04, 272.81, 463.94, 160.74]  # List of x-values for vertical lines\n",
    "for x in vertical_lines:\n",
    "    ax.axvline(x=x, color='black', linestyle='--')\n",
    "y = 0.0005\n",
    "# Add horizontal lines\n",
    "for val in expanded_ranges.values():\n",
    "    plt.hlines(y=y, color='red', xmin = val[0], xmax=val[1])\n",
    "    y += 0.0001"
   ]
  },
  {
   "cell_type": "code",
   "execution_count": 74,
   "metadata": {},
   "outputs": [],
   "source": [
    "df = getorf_270_3510\n",
    "\n",
    "ranges = {\n",
    "    \"cp\": (124, 208),\n",
    "    \"rdrp_orf2\": (311, 501),\n",
    "    \"mp\": (216, 334),\n",
    "    \"rdrp_orf1\": (1081, 1166)\n",
    "}\n",
    "\n",
    "expanded_ranges = {col: (min_val - 10, max_val + 10) for col, (min_val, max_val) in ranges.items()}\n",
    "\n",
    "masks = {\n",
    "    col: (df[\"seq_len\"] >= min_val) & (df[\"seq_len\"] <= max_val)\n",
    "    for col, (min_val, max_val) in expanded_ranges.items()\n",
    "}\n",
    "\n",
    "combined_mask = pd.concat(masks, axis=1).any(axis=1)\n",
    "\n",
    "filtered_df = df[combined_mask]"
   ]
  },
  {
   "cell_type": "code",
   "execution_count": 94,
   "metadata": {},
   "outputs": [
    {
     "data": {
      "text/plain": [
       "dict_values([(114, 218), (301, 511), (206, 344), (1071, 1176)])"
      ]
     },
     "execution_count": 94,
     "metadata": {},
     "output_type": "execute_result"
    }
   ],
   "source": [
    "expanded_ranges.values()"
   ]
  },
  {
   "cell_type": "code",
   "execution_count": 97,
   "metadata": {},
   "outputs": [
    {
     "data": {
      "image/png": "[encoded data removed]",
      "text/plain": [
       "<Figure size 700x300 with 1 Axes>"
      ]
     },
     "metadata": {},
     "output_type": "display_data"
    }
   ],
   "source": [
    "fig, ax = plt.subplots(figsize=(7,3))\n",
    "fig = sns.kdeplot(filtered_df.seq_len, fill=True)\n",
    "\n",
    "# Add vertical lines\n",
    "vertical_lines = [1115.04, 272.81, 463.94, 160.74]  # List of x-values for vertical lines\n",
    "for x in vertical_lines:\n",
    "    ax.axvline(x=x, color='black', linestyle='--')\n",
    "\n",
    "# Add horizontal lines\n",
    "for val in expanded_ranges.values():\n",
    "    plt.hlines(y=y, color='red', xmin = val[0], xmax=val[1])\n",
    "    y += 0.0001"
   ]
  },
  {
   "cell_type": "code",
   "execution_count": 81,
   "metadata": {},
   "outputs": [
    {
     "data": {
      "text/html": [
       "<div>\n",
       "<style scoped>\n",
       "    .dataframe tbody tr th:only-of-type {\n",
       "        vertical-align: middle;\n",
       "    }\n",
       "\n",
       "    .dataframe tbody tr th {\n",
       "        vertical-align: top;\n",
       "    }\n",
       "\n",
       "    .dataframe thead th {\n",
       "        text-align: right;\n",
       "    }\n",
       "</style>\n",
       "<table border=\"1\" class=\"dataframe\">\n",
       "  <thead>\n",
       "    <tr style=\"text-align: right;\">\n",
       "      <th></th>\n",
       "      <th>min</th>\n",
       "      <th>max</th>\n",
       "      <th>median</th>\n",
       "      <th>mean</th>\n",
       "      <th>stdev</th>\n",
       "      <th>lens</th>\n",
       "    </tr>\n",
       "  </thead>\n",
       "  <tbody>\n",
       "    <tr>\n",
       "      <th>cp</th>\n",
       "      <td>124</td>\n",
       "      <td>208</td>\n",
       "      <td>159</td>\n",
       "      <td>160.74</td>\n",
       "      <td>10.39</td>\n",
       "      <td>[124, 134, 157, 157, 157, 157, 157, 157, 157, ...</td>\n",
       "    </tr>\n",
       "    <tr>\n",
       "      <th>rdrp_orf2</th>\n",
       "      <td>311</td>\n",
       "      <td>501</td>\n",
       "      <td>471.0</td>\n",
       "      <td>463.94</td>\n",
       "      <td>38.64</td>\n",
       "      <td>[311, 312, 393, 403, 417, 434, 435, 444, 445, ...</td>\n",
       "    </tr>\n",
       "    <tr>\n",
       "      <th>mp</th>\n",
       "      <td>216</td>\n",
       "      <td>334</td>\n",
       "      <td>267.0</td>\n",
       "      <td>272.81</td>\n",
       "      <td>21.01</td>\n",
       "      <td>[216, 219, 254, 256, 256, 256, 256, 257, 258, ...</td>\n",
       "    </tr>\n",
       "    <tr>\n",
       "      <th>rdrp_orf1</th>\n",
       "      <td>773</td>\n",
       "      <td>1166</td>\n",
       "      <td>1116</td>\n",
       "      <td>1115.04</td>\n",
       "      <td>52.81</td>\n",
       "      <td>[1081, 1097, 1100, 1100, 1103, 1103, 1103, 110...</td>\n",
       "    </tr>\n",
       "  </tbody>\n",
       "</table>\n",
       "</div>"
      ],
      "text/plain": [
       "           min   max median     mean  stdev  \\\n",
       "cp         124   208    159   160.74  10.39   \n",
       "rdrp_orf2  311   501  471.0   463.94  38.64   \n",
       "mp         216   334  267.0   272.81  21.01   \n",
       "rdrp_orf1  773  1166   1116  1115.04  52.81   \n",
       "\n",
       "                                                        lens  \n",
       "cp         [124, 134, 157, 157, 157, 157, 157, 157, 157, ...  \n",
       "rdrp_orf2  [311, 312, 393, 403, 417, 434, 435, 444, 445, ...  \n",
       "mp         [216, 219, 254, 256, 256, 256, 256, 257, 258, ...  \n",
       "rdrp_orf1  [1081, 1097, 1100, 1100, 1103, 1103, 1103, 110...  "
      ]
     },
     "execution_count": 81,
     "metadata": {},
     "output_type": "execute_result"
    }
   ],
   "source": [
    "ref_stats_df"
   ]
  },
  {
   "cell_type": "code",
   "execution_count": 79,
   "metadata": {},
   "outputs": [
    {
     "name": "stdout",
     "output_type": "stream",
     "text": [
      "114 218\n",
      "301 511\n",
      "206 344\n",
      "1071 1176\n"
     ]
    }
   ],
   "source": [
    "for protein in proteins:\n",
    "    fasta_out = f\"results/getorf_candidates/getorf_{protein}_candidates.fasta\"\n",
    "    min_lim, max_lim = ranges[protein]\n",
    "    min_lim -= 10\n",
    "    max_lim += 10\n",
    "    \n",
    "    print(min_lim,max_lim)\n",
    "    # make new filtered fasta\n",
    "    with open(getorf_path, \"r\") as file, open(fasta_out, \"w\") as outfile:\n",
    "        out_seq = (r for r in SeqIO.parse(file, \"fasta\") if min_lim < len(r.seq) < max_lim)\n",
    "        SeqIO.write(out_seq, outfile, \"fasta\")"
   ]
  }
 ],
 "metadata": {
  "kernelspec": {
   "display_name": "base",
   "language": "python",
   "name": "python3"
  },
  "language_info": {
   "codemirror_mode": {
    "name": "ipython",
    "version": 3
   },
   "file_extension": ".py",
   "mimetype": "text/x-python",
   "name": "python",
   "nbconvert_exporter": "python",
   "pygments_lexer": "ipython3",
   "version": "3.9.0"
  }
 },
 "nbformat": 4,
 "nbformat_minor": 2
}
