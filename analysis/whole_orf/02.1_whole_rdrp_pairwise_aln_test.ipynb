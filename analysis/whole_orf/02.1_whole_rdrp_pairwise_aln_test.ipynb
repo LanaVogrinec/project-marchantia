{
 "cells": [
  {
   "cell_type": "code",
   "execution_count": 1,
   "metadata": {},
   "outputs": [],
   "source": [
    "from utils import *\n",
    "from concurrent.futures import ProcessPoolExecutor\n",
    "from tqdm.auto import tqdm"
   ]
  },
  {
   "cell_type": "code",
   "execution_count": 3,
   "metadata": {},
   "outputs": [],
   "source": [
    "rdrp_ref = parse_fasta('data/refs_virga/rdrp.fasta')\n",
    "getorf_file = parse_fasta('results/potential_whole_rdrps.fasta')"
   ]
  },
  {
   "cell_type": "code",
   "execution_count": 4,
   "metadata": {},
   "outputs": [],
   "source": [
    "rdrp_args_list = []\n",
    "\n",
    "for s1 in getorf_file.values():\n",
    "    for s2 in rdrp_ref.values():\n",
    "        rdrp_args_list.append([s1, s2])"
   ]
  },
  {
   "cell_type": "code",
   "execution_count": 6,
   "metadata": {},
   "outputs": [
    {
     "data": {
      "application/vnd.jupyter.widget-view+json": {
       "model_id": "3219afee7353487cb6f2e9d650c4817b",
       "version_major": 2,
       "version_minor": 0
      },
      "text/plain": [
       "  0%|          | 0/1972 [00:00<?, ?it/s]"
      ]
     },
     "metadata": {},
     "output_type": "display_data"
    }
   ],
   "source": [
    "with ProcessPoolExecutor(max_workers=40) as executor:\n",
    "    rdrp_results = list(tqdm(executor.map(compute_identity_score_orfxref, rdrp_args_list), total=len(rdrp_args_list)))"
   ]
  },
  {
   "cell_type": "code",
   "execution_count": 8,
   "metadata": {},
   "outputs": [],
   "source": [
    "rdrp_results_df = df_orf_edit(rdrp_results)"
   ]
  },
  {
   "cell_type": "code",
   "execution_count": 10,
   "metadata": {},
   "outputs": [
    {
     "data": {
      "text/html": [
       "<div>\n",
       "<style scoped>\n",
       "    .dataframe tbody tr th:only-of-type {\n",
       "        vertical-align: middle;\n",
       "    }\n",
       "\n",
       "    .dataframe tbody tr th {\n",
       "        vertical-align: top;\n",
       "    }\n",
       "\n",
       "    .dataframe thead th {\n",
       "        text-align: right;\n",
       "    }\n",
       "</style>\n",
       "<table border=\"1\" class=\"dataframe\">\n",
       "  <thead>\n",
       "    <tr style=\"text-align: right;\">\n",
       "      <th></th>\n",
       "      <th>SRR</th>\n",
       "      <th>contig_name</th>\n",
       "      <th>orf_name</th>\n",
       "      <th>ref_name</th>\n",
       "      <th>identity_score</th>\n",
       "      <th>gap_openings</th>\n",
       "      <th>N/orf_len</th>\n",
       "      <th>M</th>\n",
       "      <th>N</th>\n",
       "      <th>aln_len</th>\n",
       "      <th>orf_len</th>\n",
       "      <th>ref_len</th>\n",
       "    </tr>\n",
       "  </thead>\n",
       "  <tbody>\n",
       "    <tr>\n",
       "      <th>1853</th>\n",
       "      <td>SRR8554352</td>\n",
       "      <td>NODE_256_length_6307_cov_19.638684_SRR8554352</td>\n",
       "      <td>NODE_256_length_6307_cov_19.638684_SRR8554352_1</td>\n",
       "      <td>NP_619740.1_replication-associated_protein_[Pe...</td>\n",
       "      <td>1.000000</td>\n",
       "      <td>1</td>\n",
       "      <td>0.983275</td>\n",
       "      <td>0</td>\n",
       "      <td>1117</td>\n",
       "      <td>1631</td>\n",
       "      <td>1136</td>\n",
       "      <td>1612</td>\n",
       "    </tr>\n",
       "    <tr>\n",
       "      <th>1877</th>\n",
       "      <td>SRR8554352</td>\n",
       "      <td>NODE_256_length_6307_cov_19.638684_SRR8554352</td>\n",
       "      <td>NODE_256_length_6307_cov_19.638684_SRR8554352_1</td>\n",
       "      <td>QRI44269.1_MAG_replication-associated_protein[...</td>\n",
       "      <td>0.999105</td>\n",
       "      <td>1</td>\n",
       "      <td>0.983275</td>\n",
       "      <td>1</td>\n",
       "      <td>1117</td>\n",
       "      <td>1631</td>\n",
       "      <td>1136</td>\n",
       "      <td>1612</td>\n",
       "    </tr>\n",
       "    <tr>\n",
       "      <th>1669</th>\n",
       "      <td>SRR7288019</td>\n",
       "      <td>k141_83_flag_1_multi_17.0000_len_6273_SRR7288019</td>\n",
       "      <td>k141_83_flag_1_multi_17.0000_len_6273_SRR72880...</td>\n",
       "      <td>QRI44266.1_MAG_replication-associated_protein[...</td>\n",
       "      <td>0.998177</td>\n",
       "      <td>1</td>\n",
       "      <td>0.958916</td>\n",
       "      <td>2</td>\n",
       "      <td>1097</td>\n",
       "      <td>1648</td>\n",
       "      <td>1144</td>\n",
       "      <td>1601</td>\n",
       "    </tr>\n",
       "    <tr>\n",
       "      <th>1518</th>\n",
       "      <td>SRR6846476</td>\n",
       "      <td>k141_1601675_flag_1_multi_14.4397_len_6313_SRR...</td>\n",
       "      <td>k141_1601675_flag_1_multi_14.4397_len_6313_SRR...</td>\n",
       "      <td>YP_009254747.1_183_kDa_replicase_[Tropical_sod...</td>\n",
       "      <td>0.997314</td>\n",
       "      <td>1</td>\n",
       "      <td>0.986749</td>\n",
       "      <td>3</td>\n",
       "      <td>1117</td>\n",
       "      <td>1627</td>\n",
       "      <td>1132</td>\n",
       "      <td>1612</td>\n",
       "    </tr>\n",
       "    <tr>\n",
       "      <th>1456</th>\n",
       "      <td>SRR6846476</td>\n",
       "      <td>k141_1151865_flag_0_multi_83.6765_len_5786_SRR...</td>\n",
       "      <td>k141_1151865_flag_0_multi_83.6765_len_5786_SRR...</td>\n",
       "      <td>NP_671718.1_183kDa_protein_[Paprika_mild_mottl...</td>\n",
       "      <td>0.995516</td>\n",
       "      <td>1</td>\n",
       "      <td>0.980651</td>\n",
       "      <td>5</td>\n",
       "      <td>1115</td>\n",
       "      <td>1638</td>\n",
       "      <td>1137</td>\n",
       "      <td>1616</td>\n",
       "    </tr>\n",
       "    <tr>\n",
       "      <th>...</th>\n",
       "      <td>...</td>\n",
       "      <td>...</td>\n",
       "      <td>...</td>\n",
       "      <td>...</td>\n",
       "      <td>...</td>\n",
       "      <td>...</td>\n",
       "      <td>...</td>\n",
       "      <td>...</td>\n",
       "      <td>...</td>\n",
       "      <td>...</td>\n",
       "      <td>...</td>\n",
       "      <td>...</td>\n",
       "    </tr>\n",
       "    <tr>\n",
       "      <th>496</th>\n",
       "      <td>SRR3193092</td>\n",
       "      <td>NODE_667_length_5644_cov_11.809089_SRR3193092</td>\n",
       "      <td>NODE_667_length_5644_cov_11.809089_SRR3193092_1</td>\n",
       "      <td>NP_046151.1_unnamed_protein_product_[Turnip_ve...</td>\n",
       "      <td>0.261497</td>\n",
       "      <td>83</td>\n",
       "      <td>0.889334</td>\n",
       "      <td>819</td>\n",
       "      <td>1109</td>\n",
       "      <td>1739</td>\n",
       "      <td>1247</td>\n",
       "      <td>1601</td>\n",
       "    </tr>\n",
       "    <tr>\n",
       "      <th>520</th>\n",
       "      <td>SRR3193092</td>\n",
       "      <td>NODE_667_length_5644_cov_11.809089_SRR3193092</td>\n",
       "      <td>NODE_667_length_5644_cov_11.809089_SRR3193092_1</td>\n",
       "      <td>UVK78386.1_MAG_replicase_polyprotein[Plantago_...</td>\n",
       "      <td>0.260360</td>\n",
       "      <td>89</td>\n",
       "      <td>0.890136</td>\n",
       "      <td>821</td>\n",
       "      <td>1110</td>\n",
       "      <td>1738</td>\n",
       "      <td>1247</td>\n",
       "      <td>1601</td>\n",
       "    </tr>\n",
       "    <tr>\n",
       "      <th>252</th>\n",
       "      <td>SRR1276187</td>\n",
       "      <td>NODE_134_length_3526_cov_75.137136_SRR1276187</td>\n",
       "      <td>NODE_134_length_3526_cov_75.137136_SRR1276187_6</td>\n",
       "      <td>WOC94060.1_replication_protein_[Bertoki_tobamo...</td>\n",
       "      <td>0.257787</td>\n",
       "      <td>63</td>\n",
       "      <td>0.812391</td>\n",
       "      <td>691</td>\n",
       "      <td>931</td>\n",
       "      <td>1482</td>\n",
       "      <td>1146</td>\n",
       "      <td>1267</td>\n",
       "    </tr>\n",
       "    <tr>\n",
       "      <th>542</th>\n",
       "      <td>SRR3193092</td>\n",
       "      <td>NODE_667_length_5644_cov_11.809089_SRR3193092</td>\n",
       "      <td>NODE_667_length_5644_cov_11.809089_SRR3193092_1</td>\n",
       "      <td>OG_AAA47081.1_195K_protein_[Pepper_ringspot_vi...</td>\n",
       "      <td>0.255916</td>\n",
       "      <td>78</td>\n",
       "      <td>0.914996</td>\n",
       "      <td>849</td>\n",
       "      <td>1141</td>\n",
       "      <td>1804</td>\n",
       "      <td>1247</td>\n",
       "      <td>1698</td>\n",
       "    </tr>\n",
       "    <tr>\n",
       "      <th>315</th>\n",
       "      <td>SRR12855025</td>\n",
       "      <td>NODE_152_length_6750_cov_12.227484_SRR12855025</td>\n",
       "      <td>NODE_152_length_6750_cov_12.227484_SRR12855025_2</td>\n",
       "      <td>QYW08488.1_MAG_putative_183_kDa_protein[Yunnan...</td>\n",
       "      <td>0.252057</td>\n",
       "      <td>99</td>\n",
       "      <td>0.793001</td>\n",
       "      <td>1000</td>\n",
       "      <td>1337</td>\n",
       "      <td>1973</td>\n",
       "      <td>1686</td>\n",
       "      <td>1624</td>\n",
       "    </tr>\n",
       "  </tbody>\n",
       "</table>\n",
       "<p>1972 rows × 12 columns</p>\n",
       "</div>"
      ],
      "text/plain": [
       "              SRR                                        contig_name  \\\n",
       "1853   SRR8554352      NODE_256_length_6307_cov_19.638684_SRR8554352   \n",
       "1877   SRR8554352      NODE_256_length_6307_cov_19.638684_SRR8554352   \n",
       "1669   SRR7288019   k141_83_flag_1_multi_17.0000_len_6273_SRR7288019   \n",
       "1518   SRR6846476  k141_1601675_flag_1_multi_14.4397_len_6313_SRR...   \n",
       "1456   SRR6846476  k141_1151865_flag_0_multi_83.6765_len_5786_SRR...   \n",
       "...           ...                                                ...   \n",
       "496    SRR3193092      NODE_667_length_5644_cov_11.809089_SRR3193092   \n",
       "520    SRR3193092      NODE_667_length_5644_cov_11.809089_SRR3193092   \n",
       "252    SRR1276187      NODE_134_length_3526_cov_75.137136_SRR1276187   \n",
       "542    SRR3193092      NODE_667_length_5644_cov_11.809089_SRR3193092   \n",
       "315   SRR12855025     NODE_152_length_6750_cov_12.227484_SRR12855025   \n",
       "\n",
       "                                               orf_name  \\\n",
       "1853    NODE_256_length_6307_cov_19.638684_SRR8554352_1   \n",
       "1877    NODE_256_length_6307_cov_19.638684_SRR8554352_1   \n",
       "1669  k141_83_flag_1_multi_17.0000_len_6273_SRR72880...   \n",
       "1518  k141_1601675_flag_1_multi_14.4397_len_6313_SRR...   \n",
       "1456  k141_1151865_flag_0_multi_83.6765_len_5786_SRR...   \n",
       "...                                                 ...   \n",
       "496     NODE_667_length_5644_cov_11.809089_SRR3193092_1   \n",
       "520     NODE_667_length_5644_cov_11.809089_SRR3193092_1   \n",
       "252     NODE_134_length_3526_cov_75.137136_SRR1276187_6   \n",
       "542     NODE_667_length_5644_cov_11.809089_SRR3193092_1   \n",
       "315    NODE_152_length_6750_cov_12.227484_SRR12855025_2   \n",
       "\n",
       "                                               ref_name  identity_score  \\\n",
       "1853  NP_619740.1_replication-associated_protein_[Pe...        1.000000   \n",
       "1877  QRI44269.1_MAG_replication-associated_protein[...        0.999105   \n",
       "1669  QRI44266.1_MAG_replication-associated_protein[...        0.998177   \n",
       "1518  YP_009254747.1_183_kDa_replicase_[Tropical_sod...        0.997314   \n",
       "1456  NP_671718.1_183kDa_protein_[Paprika_mild_mottl...        0.995516   \n",
       "...                                                 ...             ...   \n",
       "496   NP_046151.1_unnamed_protein_product_[Turnip_ve...        0.261497   \n",
       "520   UVK78386.1_MAG_replicase_polyprotein[Plantago_...        0.260360   \n",
       "252   WOC94060.1_replication_protein_[Bertoki_tobamo...        0.257787   \n",
       "542   OG_AAA47081.1_195K_protein_[Pepper_ringspot_vi...        0.255916   \n",
       "315   QYW08488.1_MAG_putative_183_kDa_protein[Yunnan...        0.252057   \n",
       "\n",
       "      gap_openings  N/orf_len     M     N  aln_len  orf_len  ref_len  \n",
       "1853             1   0.983275     0  1117     1631     1136     1612  \n",
       "1877             1   0.983275     1  1117     1631     1136     1612  \n",
       "1669             1   0.958916     2  1097     1648     1144     1601  \n",
       "1518             1   0.986749     3  1117     1627     1132     1612  \n",
       "1456             1   0.980651     5  1115     1638     1137     1616  \n",
       "...            ...        ...   ...   ...      ...      ...      ...  \n",
       "496             83   0.889334   819  1109     1739     1247     1601  \n",
       "520             89   0.890136   821  1110     1738     1247     1601  \n",
       "252             63   0.812391   691   931     1482     1146     1267  \n",
       "542             78   0.914996   849  1141     1804     1247     1698  \n",
       "315             99   0.793001  1000  1337     1973     1686     1624  \n",
       "\n",
       "[1972 rows x 12 columns]"
      ]
     },
     "execution_count": 10,
     "metadata": {},
     "output_type": "execute_result"
    }
   ],
   "source": [
    "rdrp_results_df.sort_values(by='identity_score', ascending=False)"
   ]
  },
  {
   "cell_type": "code",
   "execution_count": 13,
   "metadata": {},
   "outputs": [
    {
     "data": {
      "text/plain": [
       "9"
      ]
     },
     "execution_count": 13,
     "metadata": {},
     "output_type": "execute_result"
    }
   ],
   "source": [
    "rdrp_results_df[rdrp_results_df['identity_score'] > 0.5].orf_name.nunique()"
   ]
  },
  {
   "cell_type": "code",
   "execution_count": 15,
   "metadata": {},
   "outputs": [
    {
     "data": {
      "text/plain": [
       "4"
      ]
     },
     "execution_count": 15,
     "metadata": {},
     "output_type": "execute_result"
    }
   ],
   "source": [
    "rdrp_results_df[rdrp_results_df['identity_score'] > 0.5].SRR.nunique()"
   ]
  },
  {
   "cell_type": "code",
   "execution_count": 16,
   "metadata": {},
   "outputs": [
    {
     "data": {
      "text/plain": [
       "29"
      ]
     },
     "execution_count": 16,
     "metadata": {},
     "output_type": "execute_result"
    }
   ],
   "source": [
    "rdrp_results_df.contig_name.nunique()"
   ]
  }
 ],
 "metadata": {
  "kernelspec": {
   "display_name": "base",
   "language": "python",
   "name": "python3"
  },
  "language_info": {
   "codemirror_mode": {
    "name": "ipython",
    "version": 3
   },
   "file_extension": ".py",
   "mimetype": "text/x-python",
   "name": "python",
   "nbconvert_exporter": "python",
   "pygments_lexer": "ipython3",
   "version": "3.9.0"
  }
 },
 "nbformat": 4,
 "nbformat_minor": 2
}
