{
 "cells": [
  {
   "cell_type": "code",
   "execution_count": 1,
   "metadata": {},
   "outputs": [],
   "source": [
    "import pandas as pd\n",
    "import mpu"
   ]
  },
  {
   "cell_type": "code",
   "execution_count": 2,
   "metadata": {},
   "outputs": [],
   "source": [
    "results = pd.read_csv('/home/tobamo/analize/project-tobamo/results/megan6_results_combined.csv', index_col=0)\n",
    "nr_tax = mpu.io.read('/home/tobamo/analize/project-tobamo/analysis/results_add_nr_taxa/accession_dict.json')"
   ]
  },
  {
   "cell_type": "code",
   "execution_count": 3,
   "metadata": {},
   "outputs": [],
   "source": [
    "results['nr_sseqid_key'] = results['nr_sseqid'].str.split('.').str[0]\n",
    "results['nr_tax'] = results['nr_sseqid_key'].map(nr_tax).fillna('')"
   ]
  },
  {
   "cell_type": "code",
   "execution_count": 4,
   "metadata": {},
   "outputs": [],
   "source": [
    "cols = ['SRR','qseqid', 'megan_tax', 'nr_tax', 'tpdb2_sseqid','nr_sseqid', 'nr_pident', 'nr_length',\n",
    "       'nr_mismatch', 'nr_gapopen', 'nr_qstart', 'nr_qend', 'nr_sstart',\n",
    "       'nr_send', 'nr_evalue', 'nr_bitscore',  'tpdb2_pident',\n",
    "       'tpdb2_length', 'tpdb2_mismatch', 'tpdb2_gapopen', 'tpdb2_qstart',\n",
    "       'tpdb2_qend', 'tpdb2_sstart', 'tpdb2_send', 'tpdb2_evalue',\n",
    "       'tpdb2_bitscore', 'sequence',  'nr_sseqid_key']"
   ]
  },
  {
   "cell_type": "code",
   "execution_count": 5,
   "metadata": {},
   "outputs": [],
   "source": [
    "results = results[cols]"
   ]
  },
  {
   "cell_type": "code",
   "execution_count": 7,
   "metadata": {},
   "outputs": [],
   "source": [
    "results.to_csv('/home/tobamo/analize/project-tobamo/results/megan6_results_combined_add_nr_taxa.csv', index=False)"
   ]
  },
  {
   "cell_type": "code",
   "execution_count": 8,
   "metadata": {},
   "outputs": [],
   "source": [
    "virga = results[results.megan_tax.str.contains('Virga', na=False)]"
   ]
  },
  {
   "cell_type": "code",
   "execution_count": 9,
   "metadata": {},
   "outputs": [
    {
     "data": {
      "text/plain": [
       "(2355, 3406)"
      ]
     },
     "execution_count": 9,
     "metadata": {},
     "output_type": "execute_result"
    }
   ],
   "source": [
    "virga.qseqid.nunique(), results.qseqid.nunique()"
   ]
  },
  {
   "cell_type": "code",
   "execution_count": 10,
   "metadata": {},
   "outputs": [
    {
     "data": {
      "text/plain": [
       "(72, 169)"
      ]
     },
     "execution_count": 10,
     "metadata": {},
     "output_type": "execute_result"
    }
   ],
   "source": [
    "virga.SRR.nunique(), results.SRR.nunique()"
   ]
  }
 ],
 "metadata": {
  "kernelspec": {
   "display_name": "base",
   "language": "python",
   "name": "python3"
  },
  "language_info": {
   "codemirror_mode": {
    "name": "ipython",
    "version": 3
   },
   "file_extension": ".py",
   "mimetype": "text/x-python",
   "name": "python",
   "nbconvert_exporter": "python",
   "pygments_lexer": "ipython3",
   "version": "3.9.0"
  }
 },
 "nbformat": 4,
 "nbformat_minor": 2
}
